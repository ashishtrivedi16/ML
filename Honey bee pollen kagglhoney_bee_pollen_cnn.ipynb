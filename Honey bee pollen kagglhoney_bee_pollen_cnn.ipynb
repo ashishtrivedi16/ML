{
  "cells": [
    {
      "metadata": {
        "_uuid": "8f2839f25d086af736a60e9eeb907d3b93b6e0e5",
        "_cell_guid": "b1076dfc-b9ad-4769-8c92-a6c4dae69d19",
        "trusted": true
      },
      "cell_type": "code",
      "source": "import os\nimport numpy as np\nimport pandas as pd\nimport tensorflow as tf\nfrom sklearn.model_selection import train_test_split, GridSearchCV\nfrom skimage import io, transform\nprint(os.listdir(\"../input/pollendataset/PollenDataset/\"))",
      "execution_count": 49,
      "outputs": [
        {
          "output_type": "stream",
          "text": "['Read.ipynb', 'images', 'Read-skimage.ipynb', 'README.md', 'pollen_data.csv']\n",
          "name": "stdout"
        }
      ]
    },
    {
      "metadata": {
        "trusted": true,
        "_uuid": "6e62a8027c8e4c681035f9693ceb0c4ddb16c10d"
      },
      "cell_type": "code",
      "source": "from keras.models import Sequential\nfrom keras.layers import Conv2D, Dropout, MaxPool2D, Flatten, Dense\nfrom keras.optimizers import SGD, RMSprop\nfrom keras.wrappers.scikit_learn import KerasClassifier",
      "execution_count": 50,
      "outputs": []
    },
    {
      "metadata": {
        "_cell_guid": "79c7e3d0-c299-4dcb-8224-4455121ee9b0",
        "_uuid": "d629ff2d2480ee46fbb7e2d37f6b5fab8052498a",
        "trusted": true
      },
      "cell_type": "code",
      "source": "data = pd.read_csv(\"../input/pollendataset/PollenDataset/pollen_data.csv\")",
      "execution_count": 51,
      "outputs": []
    },
    {
      "metadata": {
        "trusted": true,
        "_uuid": "9e4903a0f4e9ffaff93226d9022f9bcfacc1ab77"
      },
      "cell_type": "code",
      "source": "data.head(10)",
      "execution_count": 52,
      "outputs": [
        {
          "output_type": "execute_result",
          "execution_count": 52,
          "data": {
            "text/plain": "   Unnamed: 0          filename  pollen_carrying\n0           0   P10057-125r.jpg                1\n1           1   P57380-120r.jpg                1\n2           2  NP63671-221r.jpg                0\n3           3   NP53776-47r.jpg                0\n4           4  NP13382-201r.jpg                0\n5           5   P63866-224r.jpg                1\n6           6    P22071-82r.jpg                1\n7           7  NP64043-227r.jpg                0\n8           8  NP59420-165r.jpg                0\n9           9   P63758-222r.jpg                1",
            "text/html": "<div>\n<style scoped>\n    .dataframe tbody tr th:only-of-type {\n        vertical-align: middle;\n    }\n\n    .dataframe tbody tr th {\n        vertical-align: top;\n    }\n\n    .dataframe thead th {\n        text-align: right;\n    }\n</style>\n<table border=\"1\" class=\"dataframe\">\n  <thead>\n    <tr style=\"text-align: right;\">\n      <th></th>\n      <th>Unnamed: 0</th>\n      <th>filename</th>\n      <th>pollen_carrying</th>\n    </tr>\n  </thead>\n  <tbody>\n    <tr>\n      <th>0</th>\n      <td>0</td>\n      <td>P10057-125r.jpg</td>\n      <td>1</td>\n    </tr>\n    <tr>\n      <th>1</th>\n      <td>1</td>\n      <td>P57380-120r.jpg</td>\n      <td>1</td>\n    </tr>\n    <tr>\n      <th>2</th>\n      <td>2</td>\n      <td>NP63671-221r.jpg</td>\n      <td>0</td>\n    </tr>\n    <tr>\n      <th>3</th>\n      <td>3</td>\n      <td>NP53776-47r.jpg</td>\n      <td>0</td>\n    </tr>\n    <tr>\n      <th>4</th>\n      <td>4</td>\n      <td>NP13382-201r.jpg</td>\n      <td>0</td>\n    </tr>\n    <tr>\n      <th>5</th>\n      <td>5</td>\n      <td>P63866-224r.jpg</td>\n      <td>1</td>\n    </tr>\n    <tr>\n      <th>6</th>\n      <td>6</td>\n      <td>P22071-82r.jpg</td>\n      <td>1</td>\n    </tr>\n    <tr>\n      <th>7</th>\n      <td>7</td>\n      <td>NP64043-227r.jpg</td>\n      <td>0</td>\n    </tr>\n    <tr>\n      <th>8</th>\n      <td>8</td>\n      <td>NP59420-165r.jpg</td>\n      <td>0</td>\n    </tr>\n    <tr>\n      <th>9</th>\n      <td>9</td>\n      <td>P63758-222r.jpg</td>\n      <td>1</td>\n    </tr>\n  </tbody>\n</table>\n</div>"
          },
          "metadata": {}
        }
      ]
    },
    {
      "metadata": {
        "trusted": true,
        "_uuid": "9180a1e6103aef5729244b055e8eea3c7691ccef"
      },
      "cell_type": "code",
      "source": "def dataset_gen(data, size = (300,180)):\n    \n    img_data = []\n    labels = []\n    for img_name, pollen_carrying in zip(data['filename'], data['pollen_carrying']):\n        img = io.imread(os.path.join(\"../input/pollendataset/PollenDataset/images\", img_name))\n        img = transform.resize(img, size, mode = 'constant')\n        img_data.append(img)\n        labels.append(pollen_carrying)\n        \n    return np.array(img_data), np.array(labels)",
      "execution_count": 53,
      "outputs": []
    },
    {
      "metadata": {
        "trusted": true,
        "_uuid": "7e62fdc2202424c3fcb7e44b424def546bcacd4a"
      },
      "cell_type": "code",
      "source": "x, y = dataset_gen(data)\nx_train, x_test, y_train, y_test = train_test_split(x, y, test_size = 0.20, random_state = 7)\n\ny_train = tf.keras.utils.to_categorical(y_train, num_classes = 2)\ny_test = tf.keras.utils.to_categorical(y_test, num_classes = 2)\n\nx_train_val, x_test_val, y_train_val, y_test_val = train_test_split(x_train, y_train, test_size = 0.15, random_state = 7)\n\nfor data in [ x_train,y_train,x_test,y_test,x_train_val,x_test_val,y_train_val,y_test_val]:\n    print(data.shape)",
      "execution_count": 54,
      "outputs": [
        {
          "output_type": "stream",
          "text": "(571, 300, 180, 3)\n(571, 2)\n(143, 300, 180, 3)\n(143, 2)\n(485, 300, 180, 3)\n(86, 300, 180, 3)\n(485, 2)\n(86, 2)\n",
          "name": "stdout"
        }
      ]
    },
    {
      "metadata": {
        "trusted": true,
        "_uuid": "804562ea27d83cf1e74e1254181694ec6a81aa04"
      },
      "cell_type": "code",
      "source": "model = Sequential()\nmodel.add(Conv2D(32, (3,3), input_shape = (300,180,3), activation = 'relu'))\nmodel.add(MaxPool2D((2,2)))\nmodel.add(Conv2D(64, (3,3), activation = 'relu'))\nmodel.add(MaxPool2D((2,2)))\nmodel.add(Conv2D(64, (3,3), activation = 'relu'))\nmodel.add(MaxPool2D((2,2)))\nmodel.add(Conv2D(64,\n                 (3,3),\n                activation = 'relu'))\nmodel.add(MaxPool2D((2,2)))\nmodel.add(MaxPool2D((2,2)))\nmodel.add(Flatten())\nmodel.add(Dropout(0.60))\nmodel.add(Dense(256, activation = 'relu'))\nmodel.add(Dropout(0.50))\nmodel.add(Dense(2, activation = 'softmax'))\nmodel.summary()\n\nmodel.compile(optimizer = 'Adadelta', loss = 'categorical_crossentropy', metrics = ['accuracy'])",
      "execution_count": 59,
      "outputs": [
        {
          "output_type": "stream",
          "text": "_________________________________________________________________\nLayer (type)                 Output Shape              Param #   \n=================================================================\nconv2d_29 (Conv2D)           (None, 298, 178, 32)      896       \n_________________________________________________________________\nmax_pooling2d_36 (MaxPooling (None, 149, 89, 32)       0         \n_________________________________________________________________\nconv2d_30 (Conv2D)           (None, 147, 87, 64)       18496     \n_________________________________________________________________\nmax_pooling2d_37 (MaxPooling (None, 73, 43, 64)        0         \n_________________________________________________________________\nconv2d_31 (Conv2D)           (None, 71, 41, 64)        36928     \n_________________________________________________________________\nmax_pooling2d_38 (MaxPooling (None, 35, 20, 64)        0         \n_________________________________________________________________\nconv2d_32 (Conv2D)           (None, 33, 18, 64)        36928     \n_________________________________________________________________\nmax_pooling2d_39 (MaxPooling (None, 16, 9, 64)         0         \n_________________________________________________________________\nmax_pooling2d_40 (MaxPooling (None, 8, 4, 64)          0         \n_________________________________________________________________\nflatten_8 (Flatten)          (None, 2048)              0         \n_________________________________________________________________\ndropout_9 (Dropout)          (None, 2048)              0         \n_________________________________________________________________\ndense_15 (Dense)             (None, 256)               524544    \n_________________________________________________________________\ndropout_10 (Dropout)         (None, 256)               0         \n_________________________________________________________________\ndense_16 (Dense)             (None, 2)                 514       \n=================================================================\nTotal params: 618,306\nTrainable params: 618,306\nNon-trainable params: 0\n_________________________________________________________________\n",
          "name": "stdout"
        }
      ]
    },
    {
      "metadata": {
        "trusted": true,
        "_uuid": "289fa99c29a0f91f9d1726ceab193b930b86c34c",
        "scrolled": true
      },
      "cell_type": "code",
      "source": "model.fit(x = x_train_val,\n         y = y_train_val,\n         batch_size = 16,\n         epochs = 50,\n         validation_data = (x_test_val, y_test_val))",
      "execution_count": 60,
      "outputs": [
        {
          "output_type": "stream",
          "text": "Train on 485 samples, validate on 86 samples\nEpoch 1/50\n485/485 [==============================] - 3s 7ms/step - loss: 0.7001 - acc: 0.5505 - val_loss: 0.6902 - val_acc: 0.5000\nEpoch 2/50\n485/485 [==============================] - 2s 5ms/step - loss: 0.6877 - acc: 0.5773 - val_loss: 0.6389 - val_acc: 0.5233\nEpoch 3/50\n485/485 [==============================] - 2s 5ms/step - loss: 0.6289 - acc: 0.6866 - val_loss: 0.6877 - val_acc: 0.6047\nEpoch 4/50\n485/485 [==============================] - 2s 5ms/step - loss: 0.5868 - acc: 0.6948 - val_loss: 0.4353 - val_acc: 0.8605\nEpoch 5/50\n485/485 [==============================] - 2s 5ms/step - loss: 0.4669 - acc: 0.7938 - val_loss: 0.4149 - val_acc: 0.8256\nEpoch 6/50\n485/485 [==============================] - 2s 5ms/step - loss: 0.4386 - acc: 0.8144 - val_loss: 0.6418 - val_acc: 0.6163\nEpoch 7/50\n485/485 [==============================] - 2s 5ms/step - loss: 0.3477 - acc: 0.8536 - val_loss: 0.4752 - val_acc: 0.7907\nEpoch 8/50\n485/485 [==============================] - 2s 5ms/step - loss: 0.3326 - acc: 0.8639 - val_loss: 0.3303 - val_acc: 0.8488\nEpoch 9/50\n485/485 [==============================] - 2s 5ms/step - loss: 0.3275 - acc: 0.8722 - val_loss: 0.3359 - val_acc: 0.8372\nEpoch 10/50\n485/485 [==============================] - 2s 5ms/step - loss: 0.2627 - acc: 0.9010 - val_loss: 0.3850 - val_acc: 0.8372\nEpoch 11/50\n485/485 [==============================] - 2s 5ms/step - loss: 0.2673 - acc: 0.8969 - val_loss: 0.3505 - val_acc: 0.8372\nEpoch 12/50\n485/485 [==============================] - 2s 5ms/step - loss: 0.2574 - acc: 0.8928 - val_loss: 0.3399 - val_acc: 0.8605\nEpoch 13/50\n485/485 [==============================] - 2s 5ms/step - loss: 0.2617 - acc: 0.8928 - val_loss: 0.2929 - val_acc: 0.8488\nEpoch 14/50\n485/485 [==============================] - 2s 5ms/step - loss: 0.2281 - acc: 0.8948 - val_loss: 0.3089 - val_acc: 0.8721\nEpoch 15/50\n485/485 [==============================] - 2s 5ms/step - loss: 0.2106 - acc: 0.9113 - val_loss: 0.2796 - val_acc: 0.8605\nEpoch 16/50\n485/485 [==============================] - 2s 5ms/step - loss: 0.2017 - acc: 0.9010 - val_loss: 0.3973 - val_acc: 0.8372\nEpoch 17/50\n485/485 [==============================] - 2s 5ms/step - loss: 0.2120 - acc: 0.9134 - val_loss: 0.3212 - val_acc: 0.8372\nEpoch 18/50\n485/485 [==============================] - 2s 5ms/step - loss: 0.1813 - acc: 0.9237 - val_loss: 0.4392 - val_acc: 0.8372\nEpoch 19/50\n485/485 [==============================] - 2s 5ms/step - loss: 0.1463 - acc: 0.9402 - val_loss: 0.3329 - val_acc: 0.8488\nEpoch 20/50\n485/485 [==============================] - 2s 5ms/step - loss: 0.2107 - acc: 0.9196 - val_loss: 0.3090 - val_acc: 0.8488\nEpoch 21/50\n485/485 [==============================] - 2s 5ms/step - loss: 0.1487 - acc: 0.9361 - val_loss: 0.2648 - val_acc: 0.8721\nEpoch 22/50\n485/485 [==============================] - 2s 5ms/step - loss: 0.1285 - acc: 0.9526 - val_loss: 0.4139 - val_acc: 0.8488\nEpoch 23/50\n485/485 [==============================] - 2s 5ms/step - loss: 0.1187 - acc: 0.9505 - val_loss: 0.3018 - val_acc: 0.8605\nEpoch 24/50\n485/485 [==============================] - 2s 5ms/step - loss: 0.0980 - acc: 0.9629 - val_loss: 0.4156 - val_acc: 0.8256\nEpoch 25/50\n485/485 [==============================] - 2s 5ms/step - loss: 0.1209 - acc: 0.9526 - val_loss: 0.2723 - val_acc: 0.8605\nEpoch 26/50\n485/485 [==============================] - 2s 5ms/step - loss: 0.1030 - acc: 0.9629 - val_loss: 0.2825 - val_acc: 0.8721\nEpoch 27/50\n485/485 [==============================] - 2s 5ms/step - loss: 0.0927 - acc: 0.9588 - val_loss: 0.4087 - val_acc: 0.8488\nEpoch 28/50\n485/485 [==============================] - 2s 5ms/step - loss: 0.1059 - acc: 0.9753 - val_loss: 0.3519 - val_acc: 0.8837\nEpoch 29/50\n485/485 [==============================] - 2s 5ms/step - loss: 0.1171 - acc: 0.9546 - val_loss: 0.2688 - val_acc: 0.8721\nEpoch 30/50\n485/485 [==============================] - 2s 5ms/step - loss: 0.1267 - acc: 0.9505 - val_loss: 0.3871 - val_acc: 0.8721\nEpoch 31/50\n485/485 [==============================] - 2s 5ms/step - loss: 0.1062 - acc: 0.9588 - val_loss: 0.3833 - val_acc: 0.8605\nEpoch 32/50\n485/485 [==============================] - 2s 5ms/step - loss: 0.0958 - acc: 0.9608 - val_loss: 0.2963 - val_acc: 0.8953\nEpoch 33/50\n485/485 [==============================] - 2s 5ms/step - loss: 0.0875 - acc: 0.9753 - val_loss: 0.2787 - val_acc: 0.8721\nEpoch 34/50\n485/485 [==============================] - 2s 5ms/step - loss: 0.0869 - acc: 0.9691 - val_loss: 0.4289 - val_acc: 0.8488\nEpoch 35/50\n485/485 [==============================] - 2s 5ms/step - loss: 0.0632 - acc: 0.9732 - val_loss: 0.4590 - val_acc: 0.8721\nEpoch 36/50\n485/485 [==============================] - 2s 5ms/step - loss: 0.0869 - acc: 0.9588 - val_loss: 0.4160 - val_acc: 0.8837\nEpoch 37/50\n485/485 [==============================] - 2s 5ms/step - loss: 0.0964 - acc: 0.9629 - val_loss: 0.2856 - val_acc: 0.8837\nEpoch 38/50\n485/485 [==============================] - 2s 5ms/step - loss: 0.0762 - acc: 0.9753 - val_loss: 0.3808 - val_acc: 0.8837\nEpoch 39/50\n485/485 [==============================] - 2s 5ms/step - loss: 0.0483 - acc: 0.9773 - val_loss: 0.4860 - val_acc: 0.8721\nEpoch 40/50\n485/485 [==============================] - 2s 5ms/step - loss: 0.0654 - acc: 0.9794 - val_loss: 0.4662 - val_acc: 0.8837\nEpoch 41/50\n485/485 [==============================] - 2s 5ms/step - loss: 0.0574 - acc: 0.9794 - val_loss: 0.4435 - val_acc: 0.9070\nEpoch 42/50\n485/485 [==============================] - 2s 5ms/step - loss: 0.0593 - acc: 0.9794 - val_loss: 0.4327 - val_acc: 0.8953\nEpoch 43/50\n485/485 [==============================] - 2s 5ms/step - loss: 0.0580 - acc: 0.9814 - val_loss: 0.3507 - val_acc: 0.9070\nEpoch 44/50\n485/485 [==============================] - 2s 5ms/step - loss: 0.0407 - acc: 0.9876 - val_loss: 0.5885 - val_acc: 0.8837\nEpoch 45/50\n485/485 [==============================] - 2s 5ms/step - loss: 0.0727 - acc: 0.9773 - val_loss: 0.3734 - val_acc: 0.8721\nEpoch 46/50\n485/485 [==============================] - 2s 5ms/step - loss: 0.0487 - acc: 0.9876 - val_loss: 0.5031 - val_acc: 0.8605\nEpoch 47/50\n485/485 [==============================] - 2s 5ms/step - loss: 0.0735 - acc: 0.9691 - val_loss: 0.4388 - val_acc: 0.8721\nEpoch 48/50\n485/485 [==============================] - 2s 5ms/step - loss: 0.0512 - acc: 0.9773 - val_loss: 0.3306 - val_acc: 0.8953\nEpoch 49/50\n485/485 [==============================] - 2s 5ms/step - loss: 0.0912 - acc: 0.9753 - val_loss: 0.4060 - val_acc: 0.8837\nEpoch 50/50\n485/485 [==============================] - 2s 5ms/step - loss: 0.0282 - acc: 0.9897 - val_loss: 0.3949 - val_acc: 0.8953\n",
          "name": "stdout"
        },
        {
          "output_type": "execute_result",
          "execution_count": 60,
          "data": {
            "text/plain": "<keras.callbacks.History at 0x7f9df5b05710>"
          },
          "metadata": {}
        }
      ]
    },
    {
      "metadata": {
        "trusted": true,
        "_uuid": "7af73a3a34dfddff1174c19d442dec2219377b0f"
      },
      "cell_type": "code",
      "source": "pred = model.evaluate(x_test,\n                      y_test,\n                    batch_size = 32)",
      "execution_count": 61,
      "outputs": [
        {
          "output_type": "stream",
          "text": "143/143 [==============================] - 0s 3ms/step\n",
          "name": "stdout"
        }
      ]
    },
    {
      "metadata": {
        "trusted": true,
        "_uuid": "f503b0f4ab279efa7596ff2bf31d9121d64daef3"
      },
      "cell_type": "code",
      "source": "print(pred)",
      "execution_count": 62,
      "outputs": [
        {
          "output_type": "stream",
          "text": "[0.12112641127102754, 0.972027972027972]\n",
          "name": "stdout"
        }
      ]
    },
    {
      "metadata": {
        "trusted": true,
        "_uuid": "da4f6e2a9382296f57b7be3c7f7276b122e36ca7"
      },
      "cell_type": "code",
      "source": "",
      "execution_count": null,
      "outputs": []
    }
  ],
  "metadata": {
    "kernelspec": {
      "display_name": "Python 3",
      "language": "python",
      "name": "python3"
    },
    "language_info": {
      "name": "python",
      "version": "3.6.6",
      "mimetype": "text/x-python",
      "codemirror_mode": {
        "name": "ipython",
        "version": 3
      },
      "pygments_lexer": "ipython3",
      "nbconvert_exporter": "python",
      "file_extension": ".py"
    }
  },
  "nbformat": 4,
  "nbformat_minor": 1
}
