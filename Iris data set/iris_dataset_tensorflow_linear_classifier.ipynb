{
  "nbformat": 4,
  "nbformat_minor": 0,
  "metadata": {
    "colab": {
      "name": "iris_dataset_tensorflow_linear_classifier.ipynb",
      "version": "0.3.2",
      "provenance": [],
      "include_colab_link": true
    },
    "kernelspec": {
      "name": "python3",
      "display_name": "Python 3"
    },
    "accelerator": "TPU"
  },
  "cells": [
    {
      "cell_type": "markdown",
      "metadata": {
        "id": "view-in-github",
        "colab_type": "text"
      },
      "source": [
        "<a href=\"https://colab.research.google.com/github/ashishtrivedi16/ML/blob/master/iris_dataset_tensorflow_linear_classifier.ipynb\" target=\"_parent\"><img src=\"https://colab.research.google.com/assets/colab-badge.svg\" alt=\"Open In Colab\"/></a>"
      ]
    },
    {
      "metadata": {
        "id": "l-JsFYstH1vG",
        "colab_type": "code",
        "outputId": "88d89314-2d37-4fb7-d7cb-15ab78cf7fad",
        "colab": {
          "base_uri": "https://localhost:8080/",
          "height": 34
        }
      },
      "cell_type": "code",
      "source": [
        "import numpy as np\n",
        "import pandas as pd\n",
        "import tensorflow as tf\n",
        "import seaborn as sns\n",
        "from sklearn.model_selection import train_test_split\n",
        "print(\"Setup Complete...\")"
      ],
      "execution_count": 51,
      "outputs": [
        {
          "output_type": "stream",
          "text": [
            "Setup Complete...\n"
          ],
          "name": "stdout"
        }
      ]
    },
    {
      "metadata": {
        "id": "bK3C_GFoIF2_",
        "colab_type": "code",
        "outputId": "bc3bd484-2317-4db5-cb09-12cde33d77a0",
        "colab": {
          "base_uri": "https://localhost:8080/",
          "height": 34
        }
      },
      "cell_type": "code",
      "source": [
        "col_names = [\"sepal_length\", \"sepal_width\", \"petal_length\", \"petal_width\", \"class\"]\n",
        "SPECIES = ['Setosa', 'Versicolor', 'Virginica']\n",
        "iris_data = pd.read_csv(\"https://archive.ics.uci.edu/ml/machine-learning-databases/iris/iris.data\", names = col_names, index_col = False)\n",
        "print(\"Dataset loaded...\")"
      ],
      "execution_count": 100,
      "outputs": [
        {
          "output_type": "stream",
          "text": [
            "Dataset loaded...\n"
          ],
          "name": "stdout"
        }
      ]
    },
    {
      "metadata": {
        "id": "FNumTfKFpKYa",
        "colab_type": "code",
        "outputId": "a64cda50-5df0-4a9e-cc8a-b8a14c442e31",
        "colab": {
          "base_uri": "https://localhost:8080/",
          "height": 204
        }
      },
      "cell_type": "code",
      "source": [
        "iris_data.head()"
      ],
      "execution_count": 101,
      "outputs": [
        {
          "output_type": "execute_result",
          "data": {
            "text/html": [
              "<div>\n",
              "<style scoped>\n",
              "    .dataframe tbody tr th:only-of-type {\n",
              "        vertical-align: middle;\n",
              "    }\n",
              "\n",
              "    .dataframe tbody tr th {\n",
              "        vertical-align: top;\n",
              "    }\n",
              "\n",
              "    .dataframe thead th {\n",
              "        text-align: right;\n",
              "    }\n",
              "</style>\n",
              "<table border=\"1\" class=\"dataframe\">\n",
              "  <thead>\n",
              "    <tr style=\"text-align: right;\">\n",
              "      <th></th>\n",
              "      <th>sepal_length</th>\n",
              "      <th>sepal_width</th>\n",
              "      <th>petal_length</th>\n",
              "      <th>petal_width</th>\n",
              "      <th>class</th>\n",
              "    </tr>\n",
              "  </thead>\n",
              "  <tbody>\n",
              "    <tr>\n",
              "      <th>0</th>\n",
              "      <td>5.1</td>\n",
              "      <td>3.5</td>\n",
              "      <td>1.4</td>\n",
              "      <td>0.2</td>\n",
              "      <td>Iris-setosa</td>\n",
              "    </tr>\n",
              "    <tr>\n",
              "      <th>1</th>\n",
              "      <td>4.9</td>\n",
              "      <td>3.0</td>\n",
              "      <td>1.4</td>\n",
              "      <td>0.2</td>\n",
              "      <td>Iris-setosa</td>\n",
              "    </tr>\n",
              "    <tr>\n",
              "      <th>2</th>\n",
              "      <td>4.7</td>\n",
              "      <td>3.2</td>\n",
              "      <td>1.3</td>\n",
              "      <td>0.2</td>\n",
              "      <td>Iris-setosa</td>\n",
              "    </tr>\n",
              "    <tr>\n",
              "      <th>3</th>\n",
              "      <td>4.6</td>\n",
              "      <td>3.1</td>\n",
              "      <td>1.5</td>\n",
              "      <td>0.2</td>\n",
              "      <td>Iris-setosa</td>\n",
              "    </tr>\n",
              "    <tr>\n",
              "      <th>4</th>\n",
              "      <td>5.0</td>\n",
              "      <td>3.6</td>\n",
              "      <td>1.4</td>\n",
              "      <td>0.2</td>\n",
              "      <td>Iris-setosa</td>\n",
              "    </tr>\n",
              "  </tbody>\n",
              "</table>\n",
              "</div>"
            ],
            "text/plain": [
              "   sepal_length  sepal_width  petal_length  petal_width        class\n",
              "0           5.1          3.5           1.4          0.2  Iris-setosa\n",
              "1           4.9          3.0           1.4          0.2  Iris-setosa\n",
              "2           4.7          3.2           1.3          0.2  Iris-setosa\n",
              "3           4.6          3.1           1.5          0.2  Iris-setosa\n",
              "4           5.0          3.6           1.4          0.2  Iris-setosa"
            ]
          },
          "metadata": {
            "tags": []
          },
          "execution_count": 101
        }
      ]
    },
    {
      "metadata": {
        "id": "jixuqRdTqHHm",
        "colab_type": "code",
        "outputId": "d33299fa-a4cd-4743-e76a-311eefaa75b3",
        "colab": {
          "base_uri": "https://localhost:8080/",
          "height": 34
        }
      },
      "cell_type": "code",
      "source": [
        "iris_data.shape"
      ],
      "execution_count": 54,
      "outputs": [
        {
          "output_type": "execute_result",
          "data": {
            "text/plain": [
              "(150, 5)"
            ]
          },
          "metadata": {
            "tags": []
          },
          "execution_count": 54
        }
      ]
    },
    {
      "metadata": {
        "id": "HJ5vyHWzhLha",
        "colab_type": "code",
        "colab": {}
      },
      "cell_type": "code",
      "source": [
        "from sklearn.preprocessing import LabelEncoder\n",
        "\n",
        "le = LabelEncoder()\n",
        "iris_data['class'] = le.fit_transform(iris_data['class'])"
      ],
      "execution_count": 0,
      "outputs": []
    },
    {
      "metadata": {
        "id": "uoPHA7UIrUKB",
        "colab_type": "code",
        "colab": {}
      },
      "cell_type": "code",
      "source": [
        "X = iris_data.drop(['class'], axis = 1)\n",
        "Y = iris_data['class']\n",
        "x_train, x_test, y_train, y_test = train_test_split(X, Y, test_size = 0.20, random_state = 7)"
      ],
      "execution_count": 0,
      "outputs": []
    },
    {
      "metadata": {
        "id": "QJ2_FRGjbZ6U",
        "colab_type": "code",
        "colab": {
          "base_uri": "https://localhost:8080/",
          "height": 74
        },
        "outputId": "5981cc02-cade-4131-ba12-d808e3fe58ea"
      },
      "cell_type": "code",
      "source": [
        "features = {\n",
        "        'sepal_length' : x_train['sepal_length'].values,\n",
        "        'sepal_width' : x_train['sepal_width'].values,\n",
        "        'petal_length' : x_train['petal_length'].values,\n",
        "        'petal_width' : x_train['petal_width'].values\n",
        "    }\n",
        "\n",
        "feature_column = []\n",
        "for key in features.keys():\n",
        "    feature_column.append(tf.feature_column.numeric_column(key = key))\n",
        "    \n",
        "print(feature_column)\n"
      ],
      "execution_count": 57,
      "outputs": [
        {
          "output_type": "stream",
          "text": [
            "[_NumericColumn(key='sepal_length', shape=(1,), default_value=None, dtype=tf.float32, normalizer_fn=None), _NumericColumn(key='sepal_width', shape=(1,), default_value=None, dtype=tf.float32, normalizer_fn=None), _NumericColumn(key='petal_length', shape=(1,), default_value=None, dtype=tf.float32, normalizer_fn=None), _NumericColumn(key='petal_width', shape=(1,), default_value=None, dtype=tf.float32, normalizer_fn=None)]\n"
          ],
          "name": "stdout"
        }
      ]
    },
    {
      "metadata": {
        "id": "QQsurPLku2n3",
        "colab_type": "code",
        "colab": {}
      },
      "cell_type": "code",
      "source": [
        "batch_size = 20\n",
        "def train_input_fn(x_train, y_train, batch_size):\n",
        "    \n",
        "    features = {\n",
        "        'sepal_length' : x_train['sepal_length'].values,\n",
        "        'sepal_width' : x_train['sepal_width'].values,\n",
        "        'petal_length' : x_train['petal_length'].values,\n",
        "        'petal_width' : x_train['petal_width'].values\n",
        "    }\n",
        "    \n",
        "    labels = y_train.values.astype(int)\n",
        "    \n",
        "    dataset = tf.data.Dataset.from_tensor_slices((features, labels))\n",
        "    dataset = dataset.shuffle(50).repeat().batch(10)\n",
        "    \n",
        "    return dataset"
      ],
      "execution_count": 0,
      "outputs": []
    },
    {
      "metadata": {
        "id": "BqvvUYSxizzT",
        "colab_type": "code",
        "colab": {}
      },
      "cell_type": "code",
      "source": [
        "def eval_input_fn(x_test, y_test, batch_size):\n",
        "\n",
        "    features = {\n",
        "        'sepal_length' : np.array(x_test['sepal_length']),\n",
        "        'sepal_width' : np.array(x_test['sepal_width']),\n",
        "        'petal_length' : np.array(x_test['petal_length']),\n",
        "        'petal_width' : np.array(x_test['petal_width'])\n",
        "    }\n",
        "    \n",
        "    if y_test is None:\n",
        "        inputs = features\n",
        "    else:\n",
        "        labels = y_test.values.astype(int)\n",
        "        inputs = (features, labels)\n",
        "        \n",
        "    dataset = tf.data.Dataset.from_tensor_slices(inputs)\n",
        "    dataset = dataset.batch(batch_size)\n",
        "    \n",
        "    return dataset"
      ],
      "execution_count": 0,
      "outputs": []
    },
    {
      "metadata": {
        "id": "Ameq8nEZ0kML",
        "colab_type": "code",
        "outputId": "527a4dcc-c579-4d34-e47c-57cac4bc376f",
        "colab": {
          "base_uri": "https://localhost:8080/",
          "height": 210
        }
      },
      "cell_type": "code",
      "source": [
        "estimator = tf.estimator.LinearClassifier(feature_columns = feature_column, n_classes = 3)"
      ],
      "execution_count": 114,
      "outputs": [
        {
          "output_type": "stream",
          "text": [
            "INFO:tensorflow:Using default config.\n",
            "WARNING:tensorflow:Using temporary folder as model directory: /tmp/tmps5iu8sod\n",
            "INFO:tensorflow:Using config: {'_model_dir': '/tmp/tmps5iu8sod', '_tf_random_seed': None, '_save_summary_steps': 100, '_save_checkpoints_steps': None, '_save_checkpoints_secs': 600, '_session_config': allow_soft_placement: true\n",
            "graph_options {\n",
            "  rewrite_options {\n",
            "    meta_optimizer_iterations: ONE\n",
            "  }\n",
            "}\n",
            ", '_keep_checkpoint_max': 5, '_keep_checkpoint_every_n_hours': 10000, '_log_step_count_steps': 100, '_train_distribute': None, '_device_fn': None, '_protocol': None, '_eval_distribute': None, '_experimental_distribute': None, '_service': None, '_cluster_spec': <tensorflow.python.training.server_lib.ClusterSpec object at 0x7fe6e0d5c908>, '_task_type': 'worker', '_task_id': 0, '_global_id_in_cluster': 0, '_master': '', '_evaluation_master': '', '_is_chief': True, '_num_ps_replicas': 0, '_num_worker_replicas': 1}\n"
          ],
          "name": "stdout"
        }
      ]
    },
    {
      "metadata": {
        "id": "TrXOgmox1e7r",
        "colab_type": "code",
        "outputId": "dcf620ab-b102-45b9-f5ba-d46a3df43aee",
        "colab": {
          "base_uri": "https://localhost:8080/",
          "height": 527
        }
      },
      "cell_type": "code",
      "source": [
        "estimator.train(input_fn = lambda : train_input_fn(x_train, y_train, batch_size), steps = 1000)"
      ],
      "execution_count": 118,
      "outputs": [
        {
          "output_type": "stream",
          "text": [
            "INFO:tensorflow:Calling model_fn.\n",
            "INFO:tensorflow:Done calling model_fn.\n",
            "INFO:tensorflow:Create CheckpointSaverHook.\n",
            "INFO:tensorflow:Graph was finalized.\n",
            "INFO:tensorflow:Restoring parameters from /tmp/tmps5iu8sod/model.ckpt-10000\n",
            "INFO:tensorflow:Running local_init_op.\n",
            "INFO:tensorflow:Done running local_init_op.\n",
            "INFO:tensorflow:Saving checkpoints for 10000 into /tmp/tmps5iu8sod/model.ckpt.\n",
            "INFO:tensorflow:loss = 0.52523714, step = 10001\n",
            "INFO:tensorflow:global_step/sec: 758.443\n",
            "INFO:tensorflow:loss = 0.17519696, step = 10101 (0.138 sec)\n",
            "INFO:tensorflow:global_step/sec: 1116.79\n",
            "INFO:tensorflow:loss = 0.69081813, step = 10201 (0.085 sec)\n",
            "INFO:tensorflow:global_step/sec: 1143.57\n",
            "INFO:tensorflow:loss = 0.4585027, step = 10301 (0.091 sec)\n",
            "INFO:tensorflow:global_step/sec: 1158.39\n",
            "INFO:tensorflow:loss = 1.8817445, step = 10401 (0.085 sec)\n",
            "INFO:tensorflow:global_step/sec: 1164.08\n",
            "INFO:tensorflow:loss = 0.8961264, step = 10501 (0.084 sec)\n",
            "INFO:tensorflow:global_step/sec: 1192.51\n",
            "INFO:tensorflow:loss = 0.56089175, step = 10601 (0.083 sec)\n",
            "INFO:tensorflow:global_step/sec: 1184.5\n",
            "INFO:tensorflow:loss = 1.7157484, step = 10701 (0.084 sec)\n",
            "INFO:tensorflow:global_step/sec: 1164.83\n",
            "INFO:tensorflow:loss = 0.49294874, step = 10801 (0.086 sec)\n",
            "INFO:tensorflow:global_step/sec: 1182.03\n",
            "INFO:tensorflow:loss = 0.3531161, step = 10901 (0.085 sec)\n",
            "INFO:tensorflow:Saving checkpoints for 11000 into /tmp/tmps5iu8sod/model.ckpt.\n",
            "INFO:tensorflow:Loss for final step: 0.20777942.\n"
          ],
          "name": "stdout"
        },
        {
          "output_type": "execute_result",
          "data": {
            "text/plain": [
              "<tensorflow.python.estimator.canned.linear.LinearClassifier at 0x7fe6e0d5cdd8>"
            ]
          },
          "metadata": {
            "tags": []
          },
          "execution_count": 118
        }
      ]
    },
    {
      "metadata": {
        "id": "IjxU3Xv5gVSs",
        "colab_type": "code",
        "colab": {
          "base_uri": "https://localhost:8080/",
          "height": 238
        },
        "outputId": "f5cca3f7-8553-443d-8366-ebdc1ce738a6"
      },
      "cell_type": "code",
      "source": [
        "eval_result = estimator.evaluate(input_fn = lambda : eval_input_fn(x_test, y_test, batch_size))\n",
        "\n",
        "print('\\nTest set accuracy: {accuracy:0.3f}\\n'.format(**eval_result))"
      ],
      "execution_count": 119,
      "outputs": [
        {
          "output_type": "stream",
          "text": [
            "INFO:tensorflow:Calling model_fn.\n",
            "INFO:tensorflow:Done calling model_fn.\n",
            "INFO:tensorflow:Starting evaluation at 2019-01-11-06:48:24\n",
            "INFO:tensorflow:Graph was finalized.\n",
            "INFO:tensorflow:Restoring parameters from /tmp/tmps5iu8sod/model.ckpt-11000\n",
            "INFO:tensorflow:Running local_init_op.\n",
            "INFO:tensorflow:Done running local_init_op.\n",
            "INFO:tensorflow:Finished evaluation at 2019-01-11-06:48:24\n",
            "INFO:tensorflow:Saving dict for global step 11000: accuracy = 0.93333334, average_loss = 0.163339, global_step = 11000, loss = 2.4500852\n",
            "INFO:tensorflow:Saving 'checkpoint_path' summary for global step 11000: /tmp/tmps5iu8sod/model.ckpt-11000\n",
            "\n",
            "Test set accuracy: 0.933\n",
            "\n"
          ],
          "name": "stdout"
        }
      ]
    },
    {
      "metadata": {
        "id": "CyEN_Y-iiQ5v",
        "colab_type": "code",
        "colab": {
          "base_uri": "https://localhost:8080/",
          "height": 221
        },
        "outputId": "7560edec-8bec-4af4-bae7-91bdce36c65b"
      },
      "cell_type": "code",
      "source": [
        "expected = ['Setosa', 'Versicolor', 'Virginica']\n",
        "predict_x = {\n",
        "    'sepal_length': [5.1, 5.9, 6.9],\n",
        "    'sepal_width': [3.3, 3.0, 3.1],\n",
        "    'petal_length': [1.7, 4.2, 5.4],\n",
        "    'petal_width': [0.5, 1.5, 2.1],\n",
        "}\n",
        "\n",
        "predictions = estimator.predict(input_fn = lambda : eval_input_fn(predict_x, \n",
        "                                                                  None,\n",
        "                                            batch_size = batch_size))\n",
        "\n",
        "\n",
        "template = ('\\nPrediction is \"{}\" ({:.1f}%), expected \"{}\"')\n",
        "\n",
        "for pred_dict, expec in zip(predictions, expected):\n",
        "    class_id = pred_dict['class_ids'][0]\n",
        "    probability = pred_dict['probabilities'][class_id]\n",
        "\n",
        "    print(template.format(SPECIES[class_id],\n",
        "                          100 * probability, expec))"
      ],
      "execution_count": 120,
      "outputs": [
        {
          "output_type": "stream",
          "text": [
            "INFO:tensorflow:Calling model_fn.\n",
            "INFO:tensorflow:Done calling model_fn.\n",
            "INFO:tensorflow:Graph was finalized.\n",
            "INFO:tensorflow:Restoring parameters from /tmp/tmps5iu8sod/model.ckpt-11000\n",
            "INFO:tensorflow:Running local_init_op.\n",
            "INFO:tensorflow:Done running local_init_op.\n",
            "\n",
            "Prediction is \"Setosa\" (99.1%), expected \"Setosa\"\n",
            "\n",
            "Prediction is \"Versicolor\" (91.4%), expected \"Versicolor\"\n",
            "\n",
            "Prediction is \"Virginica\" (94.3%), expected \"Virginica\"\n"
          ],
          "name": "stdout"
        }
      ]
    },
    {
      "metadata": {
        "id": "49Djw3pFkxsu",
        "colab_type": "code",
        "colab": {}
      },
      "cell_type": "code",
      "source": [
        ""
      ],
      "execution_count": 0,
      "outputs": []
    }
  ]
}
