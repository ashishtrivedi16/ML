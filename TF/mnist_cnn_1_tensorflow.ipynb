{
  "nbformat": 4,
  "nbformat_minor": 0,
  "metadata": {
    "colab": {
      "name": "mnist_cnn_1_tensorflow.ipynb",
      "version": "0.3.2",
      "provenance": [],
      "collapsed_sections": [],
      "include_colab_link": true
    },
    "kernelspec": {
      "name": "python3",
      "display_name": "Python 3"
    },
    "accelerator": "GPU"
  },
  "cells": [
    {
      "cell_type": "markdown",
      "metadata": {
        "id": "view-in-github",
        "colab_type": "text"
      },
      "source": [
        "<a href=\"https://colab.research.google.com/github/ashishtrivedi16/ML/blob/master/TF/mnist_cnn_1_tensorflow.ipynb\" target=\"_parent\"><img src=\"https://colab.research.google.com/assets/colab-badge.svg\" alt=\"Open In Colab\"/></a>"
      ]
    },
    {
      "metadata": {
        "id": "Mb2yFIsP_nNS",
        "colab_type": "code",
        "outputId": "7ad949e8-512f-4695-d22f-2bb3175390bb",
        "colab": {
          "base_uri": "https://localhost:8080/",
          "height": 34
        }
      },
      "cell_type": "code",
      "source": [
        "import numpy as np\n",
        "import pandas as pd\n",
        "import seaborn as sns\n",
        "import tensorflow as tf\n",
        "import matplotlib.pyplot as plt\n",
        "print(\"Setup complete...\")"
      ],
      "execution_count": 1,
      "outputs": [
        {
          "output_type": "stream",
          "text": [
            "Setup complete...\n"
          ],
          "name": "stdout"
        }
      ]
    },
    {
      "metadata": {
        "colab_type": "code",
        "outputId": "f38d66f0-2b6f-4b08-9084-676295b44fe8",
        "id": "WPSUf7NLh96_",
        "colab": {
          "base_uri": "https://localhost:8080/",
          "height": 34
        }
      },
      "cell_type": "code",
      "source": [
        "tf.test.gpu_device_name()"
      ],
      "execution_count": 2,
      "outputs": [
        {
          "output_type": "execute_result",
          "data": {
            "text/plain": [
              "'/device:GPU:0'"
            ]
          },
          "metadata": {
            "tags": []
          },
          "execution_count": 2
        }
      ]
    },
    {
      "metadata": {
        "id": "589d2pal0gdW",
        "colab_type": "code",
        "colab": {
          "base_uri": "https://localhost:8080/",
          "height": 74
        },
        "outputId": "3368d726-b7c1-4d11-d89d-331aa7a4790d"
      },
      "cell_type": "code",
      "source": [
        "'''\n",
        "import os\n",
        "# This address identifies the TPU we'll use when configuring TensorFlow.\n",
        "TPU_WORKER = 'grpc://' + os.environ['COLAB_TPU_ADDR']\n",
        "print(TPU_WORKER)\n",
        "'''"
      ],
      "execution_count": 3,
      "outputs": [
        {
          "output_type": "execute_result",
          "data": {
            "text/plain": [
              "\"\\nimport os\\n# This address identifies the TPU we'll use when configuring TensorFlow.\\nTPU_WORKER = 'grpc://' + os.environ['COLAB_TPU_ADDR']\\nprint(TPU_WORKER)\\n\""
            ]
          },
          "metadata": {
            "tags": []
          },
          "execution_count": 3
        }
      ]
    },
    {
      "metadata": {
        "id": "_o2b15ZzKmXX",
        "colab_type": "code",
        "colab": {
          "base_uri": "https://localhost:8080/",
          "height": 34
        },
        "outputId": "1b31303c-97c7-4762-ea84-130e22ba77f1"
      },
      "cell_type": "code",
      "source": [
        "from keras.models import Sequential\n",
        "from keras.layers import Conv2D\n",
        "from keras.layers import MaxPool2D\n",
        "from keras.layers import Dense\n",
        "from keras.layers import Flatten\n",
        "from keras.layers import Dropout"
      ],
      "execution_count": 4,
      "outputs": [
        {
          "output_type": "stream",
          "text": [
            "Using TensorFlow backend.\n"
          ],
          "name": "stderr"
        }
      ]
    },
    {
      "metadata": {
        "id": "bzy82qmaEhE0",
        "colab_type": "code",
        "outputId": "52b715f9-ffa0-46ae-fee6-35ca755dbe25",
        "colab": {
          "base_uri": "https://localhost:8080/",
          "height": 34
        }
      },
      "cell_type": "code",
      "source": [
        "(x_train, y_train), (x_test, y_test) = tf.keras.datasets.mnist.load_data()\n",
        "\n",
        "from keras import backend as K\n",
        "\n",
        "if K.image_data_format() == 'channels_last':\n",
        "    x_train = x_train.reshape((x_train.shape[0], img_col, img_row, 1))\n",
        "    x_test = x_test.reshape((x_test.shape[0], img_col, img_row, 1))\n",
        "    input_shape = (img_col, img_row, 1)\n",
        "else:\n",
        "    x_train = x_train.reshape((x_train.shape[0], 1, img_col, img_row))\n",
        "    x_test = x_test.reshape((x_test.shape[0], 1, img_col, img_row))\n",
        "    input_shape = (1, img_col, img_row)\n",
        "    \n",
        "x_train = x_train.astype('float32')\n",
        "x_test = x_test.astype('float32')\n",
        "\n",
        "x_train /= 255\n",
        "x_test /= 255\n",
        "\n",
        "\n",
        "y_train = tf.keras.utils.to_categorical(y_train, num_classes = classes)\n",
        "y_test = tf.keras.utils.to_categorical(y_test, num_classes = classes)\n",
        "\n",
        "print(x_train.shape,\n",
        "     x_test.shape,\n",
        "     y_train.shape,\n",
        "     y_test.shape)"
      ],
      "execution_count": 6,
      "outputs": [
        {
          "output_type": "stream",
          "text": [
            "(60000, 28, 28, 1) (10000, 28, 28, 1) (60000, 10) (10000, 10)\n"
          ],
          "name": "stdout"
        }
      ]
    },
    {
      "metadata": {
        "id": "Hqrwz5pzQoqW",
        "colab_type": "code",
        "colab": {}
      },
      "cell_type": "code",
      "source": [
        "batch_size = 128\n",
        "img_col, img_row = 28, 28\n",
        "classes = 10\n",
        "epochs = 20"
      ],
      "execution_count": 0,
      "outputs": []
    },
    {
      "metadata": {
        "id": "i0xv5qWaEwrc",
        "colab_type": "code",
        "outputId": "c4d9517c-0917-4798-c4b9-6b08f56807ba",
        "colab": {
          "base_uri": "https://localhost:8080/",
          "height": 408
        }
      },
      "cell_type": "code",
      "source": [
        "model = Sequential()\n",
        "\n",
        "model.add(Conv2D(32,\n",
        "                (3,3),\n",
        "                input_shape = input_shape,\n",
        "                activation = 'relu'\n",
        "                )\n",
        "         )\n",
        "\n",
        "model.add(Conv2D(64,\n",
        "                (3,3),\n",
        "                activation = 'relu'\n",
        "                )\n",
        "         )\n",
        "\n",
        "\n",
        "model.add(MaxPool2D(pool_size = (2,2)))\n",
        "\n",
        "model.add(Dropout(0.25))\n",
        "\n",
        "model.add(Flatten())\n",
        "\n",
        "model.add(Dense(128, activation = 'relu'))\n",
        "model.add(Dropout(0.25))\n",
        "\n",
        "model.add(Dense(classes, activation = 'sigmoid'))\n",
        "\n",
        "model.summary()"
      ],
      "execution_count": 47,
      "outputs": [
        {
          "output_type": "stream",
          "text": [
            "_________________________________________________________________\n",
            "Layer (type)                 Output Shape              Param #   \n",
            "=================================================================\n",
            "conv2d_32 (Conv2D)           (None, 26, 26, 32)        320       \n",
            "_________________________________________________________________\n",
            "conv2d_33 (Conv2D)           (None, 24, 24, 64)        18496     \n",
            "_________________________________________________________________\n",
            "max_pooling2d_14 (MaxPooling (None, 12, 12, 64)        0         \n",
            "_________________________________________________________________\n",
            "dropout_28 (Dropout)         (None, 12, 12, 64)        0         \n",
            "_________________________________________________________________\n",
            "flatten_13 (Flatten)         (None, 9216)              0         \n",
            "_________________________________________________________________\n",
            "dense_28 (Dense)             (None, 128)               1179776   \n",
            "_________________________________________________________________\n",
            "dropout_29 (Dropout)         (None, 128)               0         \n",
            "_________________________________________________________________\n",
            "dense_29 (Dense)             (None, 10)                1290      \n",
            "=================================================================\n",
            "Total params: 1,199,882\n",
            "Trainable params: 1,199,882\n",
            "Non-trainable params: 0\n",
            "_________________________________________________________________\n"
          ],
          "name": "stdout"
        }
      ]
    },
    {
      "metadata": {
        "id": "JN25vdORXPgY",
        "colab_type": "code",
        "colab": {}
      },
      "cell_type": "code",
      "source": [
        "model.compile(optimizer='SGD',\n",
        "             loss='binary_crossentropy',\n",
        "             metrics=['accuracy'])"
      ],
      "execution_count": 0,
      "outputs": []
    },
    {
      "metadata": {
        "id": "RRpnQk4sZSV6",
        "colab_type": "code",
        "outputId": "fcdb30da-d3a3-4aa3-ada1-4b45469678f9",
        "colab": {
          "base_uri": "https://localhost:8080/",
          "height": 714
        }
      },
      "cell_type": "code",
      "source": [
        "res = model.fit(x_train,\n",
        "         y_train,\n",
        "         batch_size = batch_size,\n",
        "         epochs = epochs,\n",
        "         validation_data = (x_test, y_test),\n",
        "         )"
      ],
      "execution_count": 49,
      "outputs": [
        {
          "output_type": "stream",
          "text": [
            "Train on 60000 samples, validate on 10000 samples\n",
            "Epoch 1/20\n",
            "60000/60000 [==============================] - 9s 144us/step - loss: 0.3677 - acc: 0.8875 - val_loss: 0.2872 - val_acc: 0.9000\n",
            "Epoch 2/20\n",
            "60000/60000 [==============================] - 8s 127us/step - loss: 0.2544 - acc: 0.9095 - val_loss: 0.1761 - val_acc: 0.9331\n",
            "Epoch 3/20\n",
            "60000/60000 [==============================] - 8s 126us/step - loss: 0.1725 - acc: 0.9387 - val_loss: 0.1162 - val_acc: 0.9606\n",
            "Epoch 4/20\n",
            "60000/60000 [==============================] - 8s 127us/step - loss: 0.1369 - acc: 0.9515 - val_loss: 0.0934 - val_acc: 0.9699\n",
            "Epoch 5/20\n",
            "60000/60000 [==============================] - 8s 127us/step - loss: 0.1191 - acc: 0.9579 - val_loss: 0.0812 - val_acc: 0.9746\n",
            "Epoch 6/20\n",
            "60000/60000 [==============================] - 8s 128us/step - loss: 0.1077 - acc: 0.9622 - val_loss: 0.0733 - val_acc: 0.9770\n",
            "Epoch 7/20\n",
            "60000/60000 [==============================] - 8s 127us/step - loss: 0.0994 - acc: 0.9652 - val_loss: 0.0673 - val_acc: 0.9790\n",
            "Epoch 8/20\n",
            "60000/60000 [==============================] - 8s 127us/step - loss: 0.0934 - acc: 0.9674 - val_loss: 0.0627 - val_acc: 0.9802\n",
            "Epoch 9/20\n",
            "60000/60000 [==============================] - 8s 127us/step - loss: 0.0878 - acc: 0.9697 - val_loss: 0.0589 - val_acc: 0.9817\n",
            "Epoch 10/20\n",
            "60000/60000 [==============================] - 8s 127us/step - loss: 0.0833 - acc: 0.9712 - val_loss: 0.0554 - val_acc: 0.9827\n",
            "Epoch 11/20\n",
            "60000/60000 [==============================] - 8s 127us/step - loss: 0.0789 - acc: 0.9731 - val_loss: 0.0527 - val_acc: 0.9833\n",
            "Epoch 12/20\n",
            "60000/60000 [==============================] - 8s 127us/step - loss: 0.0760 - acc: 0.9739 - val_loss: 0.0505 - val_acc: 0.9839\n",
            "Epoch 13/20\n",
            "60000/60000 [==============================] - 8s 127us/step - loss: 0.0729 - acc: 0.9751 - val_loss: 0.0482 - val_acc: 0.9848\n",
            "Epoch 14/20\n",
            "60000/60000 [==============================] - 8s 127us/step - loss: 0.0704 - acc: 0.9760 - val_loss: 0.0462 - val_acc: 0.9851\n",
            "Epoch 15/20\n",
            "60000/60000 [==============================] - 8s 127us/step - loss: 0.0685 - acc: 0.9766 - val_loss: 0.0444 - val_acc: 0.9859\n",
            "Epoch 16/20\n",
            "60000/60000 [==============================] - 8s 127us/step - loss: 0.0662 - acc: 0.9776 - val_loss: 0.0432 - val_acc: 0.9861\n",
            "Epoch 17/20\n",
            "60000/60000 [==============================] - 8s 128us/step - loss: 0.0644 - acc: 0.9782 - val_loss: 0.0421 - val_acc: 0.9866\n",
            "Epoch 18/20\n",
            "60000/60000 [==============================] - 8s 127us/step - loss: 0.0623 - acc: 0.9790 - val_loss: 0.0408 - val_acc: 0.9871\n",
            "Epoch 19/20\n",
            "60000/60000 [==============================] - 8s 127us/step - loss: 0.0612 - acc: 0.9793 - val_loss: 0.0397 - val_acc: 0.9872\n",
            "Epoch 20/20\n",
            "60000/60000 [==============================] - 8s 127us/step - loss: 0.0595 - acc: 0.9799 - val_loss: 0.0389 - val_acc: 0.9874\n"
          ],
          "name": "stdout"
        }
      ]
    },
    {
      "metadata": {
        "id": "_VRTCVML59LM",
        "colab_type": "code",
        "colab": {}
      },
      "cell_type": "code",
      "source": [
        ""
      ],
      "execution_count": 0,
      "outputs": []
    }
  ]
}