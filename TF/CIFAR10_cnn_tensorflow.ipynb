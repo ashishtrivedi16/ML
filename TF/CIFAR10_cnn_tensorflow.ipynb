{
  "nbformat": 4,
  "nbformat_minor": 0,
  "metadata": {
    "colab": {
      "name": "CIFAR10_cnn_tensorflow.ipynb",
      "version": "0.3.2",
      "provenance": [],
      "collapsed_sections": [],
      "include_colab_link": true
    },
    "kernelspec": {
      "name": "python3",
      "display_name": "Python 3"
    },
    "accelerator": "GPU"
  },
  "cells": [
    {
      "cell_type": "markdown",
      "metadata": {
        "id": "view-in-github",
        "colab_type": "text"
      },
      "source": [
        "<a href=\"https://colab.research.google.com/github/ashishtrivedi16/ML/blob/master/TF/CIFAR10_cnn_tensorflow.ipynb\" target=\"_parent\"><img src=\"https://colab.research.google.com/assets/colab-badge.svg\" alt=\"Open In Colab\"/></a>"
      ]
    },
    {
      "metadata": {
        "id": "OYhPyGF1aJUz",
        "colab_type": "code",
        "colab": {
          "base_uri": "https://localhost:8080/",
          "height": 34
        },
        "outputId": "8c7e0f37-1774-4699-ff2b-efe3b4b3f952"
      },
      "cell_type": "code",
      "source": [
        "import numpy as np\n",
        "import pandas as pd\n",
        "import seaborn as sns\n",
        "import matplotlib.pyplot as plt\n",
        "import tensorflow as tf\n",
        "print(\"Loaded...\")"
      ],
      "execution_count": 23,
      "outputs": [
        {
          "output_type": "stream",
          "text": [
            "Loaded...\n"
          ],
          "name": "stdout"
        }
      ]
    },
    {
      "metadata": {
        "id": "go1q6xb-aZxq",
        "colab_type": "code",
        "colab": {
          "base_uri": "https://localhost:8080/",
          "height": 34
        },
        "outputId": "ccf86ef2-6943-4e8d-8cad-f7435d51d8f4"
      },
      "cell_type": "code",
      "source": [
        "tf.test.gpu_device_name()"
      ],
      "execution_count": 24,
      "outputs": [
        {
          "output_type": "execute_result",
          "data": {
            "text/plain": [
              "'/device:GPU:0'"
            ]
          },
          "metadata": {
            "tags": []
          },
          "execution_count": 24
        }
      ]
    },
    {
      "metadata": {
        "id": "EP7B2ssCahWh",
        "colab_type": "code",
        "colab": {}
      },
      "cell_type": "code",
      "source": [
        "from keras.models import Sequential\n",
        "from keras.layers import Conv2D\n",
        "from keras.layers import MaxPool2D\n",
        "from keras.layers import Dense\n",
        "from keras.layers import Flatten\n",
        "from keras.layers import Dropout\n",
        "from keras import backend as K"
      ],
      "execution_count": 0,
      "outputs": []
    },
    {
      "metadata": {
        "id": "v9oBFAc4ao7c",
        "colab_type": "code",
        "colab": {
          "base_uri": "https://localhost:8080/",
          "height": 51
        },
        "outputId": "408987f3-8eb1-4342-c53f-bfc0671054ac"
      },
      "cell_type": "code",
      "source": [
        "(x_train, y_train), (x_test, y_test) = tf.keras.datasets.cifar10.load_data()"
      ],
      "execution_count": 26,
      "outputs": [
        {
          "output_type": "stream",
          "text": [
            "Downloading data from https://www.cs.toronto.edu/~kriz/cifar-10-python.tar.gz\n",
            "170500096/170498071 [==============================] - 31s 0us/step\n"
          ],
          "name": "stdout"
        }
      ]
    },
    {
      "metadata": {
        "id": "gwheC0sta9hi",
        "colab_type": "code",
        "colab": {
          "base_uri": "https://localhost:8080/",
          "height": 51
        },
        "outputId": "1c5a5654-8871-4978-bd34-9be694612244"
      },
      "cell_type": "code",
      "source": [
        "img_col, img_row = 32, 32\n",
        "classes = 10\n",
        "batch_size = 128\n",
        "\n",
        "print(x_train.shape,\n",
        "     x_test.shape,\n",
        "     y_train.shape,\n",
        "     y_test.shape)\n",
        "\n",
        "if K.image_data_format() == 'channels_last':\n",
        "    x_train = x_train.reshape(x_train.shape[0], img_col, img_row, 3)\n",
        "    x_test = x_test.reshape(x_test.shape[0], img_col, img_row, 3)\n",
        "    input_shape = (img_col, img_row, 3)\n",
        "else:\n",
        "    x_train = x_train.reshape(x_train.shape[0], 3, img_col, img_row)\n",
        "    x_test = x_test.reshape(x_test.shape[0], 3, img_col, img_row)\n",
        "    input_shape = (3, img_col, img_row)\n",
        "    \n",
        "x_train = x_train.astype('float32')\n",
        "x_test = x_test.astype('float32')\n",
        "\n",
        "x_train /= 255\n",
        "x_test /= 255\n",
        "\n",
        "y_train = tf.keras.utils.to_categorical(y_train, num_classes = classes)\n",
        "y_test = tf.keras.utils.to_categorical(y_test, num_classes = classes)\n",
        "\n",
        "print(x_train.shape,\n",
        "     x_test.shape,\n",
        "     y_train.shape,\n",
        "     y_test.shape)"
      ],
      "execution_count": 27,
      "outputs": [
        {
          "output_type": "stream",
          "text": [
            "(50000, 32, 32, 3) (10000, 32, 32, 3) (50000, 1) (10000, 1)\n",
            "(50000, 32, 32, 3) (10000, 32, 32, 3) (50000, 10) (10000, 10)\n"
          ],
          "name": "stdout"
        }
      ]
    },
    {
      "metadata": {
        "id": "wdQ-8f-8cK9X",
        "colab_type": "code",
        "colab": {
          "base_uri": "https://localhost:8080/",
          "height": 408
        },
        "outputId": "a50b5670-b820-436a-8003-a2df0ac5eeb7"
      },
      "cell_type": "code",
      "source": [
        "model = Sequential()\n",
        "\n",
        "model.add(Conv2D(32,\n",
        "                (3,3),\n",
        "                input_shape = input_shape,\n",
        "                activation = 'relu'))\n",
        "\n",
        "model.add(Conv2D(64,\n",
        "                (3,3),\n",
        "                activation = 'relu'))\n",
        "\n",
        "model.add(MaxPool2D((2,2)))\n",
        "\n",
        "model.add(Dropout(0.20))\n",
        "\n",
        "model.add(Flatten())\n",
        "\n",
        "model.add(Dense(128,\n",
        "               activation = 'relu'))\n",
        "model.add(Dropout(0.20))\n",
        "\n",
        "model.add(Dense(classes,\n",
        "               activation = 'softmax'))\n",
        "\n",
        "model.summary()"
      ],
      "execution_count": 31,
      "outputs": [
        {
          "output_type": "stream",
          "text": [
            "_________________________________________________________________\n",
            "Layer (type)                 Output Shape              Param #   \n",
            "=================================================================\n",
            "conv2d_5 (Conv2D)            (None, 30, 30, 32)        896       \n",
            "_________________________________________________________________\n",
            "conv2d_6 (Conv2D)            (None, 28, 28, 64)        18496     \n",
            "_________________________________________________________________\n",
            "max_pooling2d_3 (MaxPooling2 (None, 14, 14, 64)        0         \n",
            "_________________________________________________________________\n",
            "dropout_5 (Dropout)          (None, 14, 14, 64)        0         \n",
            "_________________________________________________________________\n",
            "flatten_3 (Flatten)          (None, 12544)             0         \n",
            "_________________________________________________________________\n",
            "dense_5 (Dense)              (None, 128)               1605760   \n",
            "_________________________________________________________________\n",
            "dropout_6 (Dropout)          (None, 128)               0         \n",
            "_________________________________________________________________\n",
            "dense_6 (Dense)              (None, 10)                1290      \n",
            "=================================================================\n",
            "Total params: 1,626,442\n",
            "Trainable params: 1,626,442\n",
            "Non-trainable params: 0\n",
            "_________________________________________________________________\n"
          ],
          "name": "stdout"
        }
      ]
    },
    {
      "metadata": {
        "id": "XW6sVwdudwVu",
        "colab_type": "code",
        "colab": {}
      },
      "cell_type": "code",
      "source": [
        "model.compile(optimizer = 'SGD',\n",
        "             loss = 'binary_crossentropy',\n",
        "             metrics = ['accuracy']\n",
        "             )"
      ],
      "execution_count": 0,
      "outputs": []
    },
    {
      "metadata": {
        "id": "R-_y-zAjfMRt",
        "colab_type": "code",
        "colab": {
          "base_uri": "https://localhost:8080/",
          "height": 391
        },
        "outputId": "b3da13f1-8455-4a58-b7ad-feeb4ae45929"
      },
      "cell_type": "code",
      "source": [
        "model.fit(x = x_train,\n",
        "           y = y_train,\n",
        "           batch_size = batch_size,\n",
        "           epochs = 10,\n",
        "           shuffle = True,\n",
        "           validation_data = (x_test, y_test)\n",
        "           )"
      ],
      "execution_count": 33,
      "outputs": [
        {
          "output_type": "stream",
          "text": [
            "Train on 50000 samples, validate on 10000 samples\n",
            "Epoch 1/10\n",
            "50000/50000 [==============================] - 8s 170us/step - loss: 0.3235 - acc: 0.9000 - val_loss: 0.3211 - val_acc: 0.9000\n",
            "Epoch 2/10\n",
            "50000/50000 [==============================] - 8s 161us/step - loss: 0.3195 - acc: 0.9000 - val_loss: 0.3157 - val_acc: 0.9000\n",
            "Epoch 3/10\n",
            "50000/50000 [==============================] - 8s 160us/step - loss: 0.3132 - acc: 0.9000 - val_loss: 0.3067 - val_acc: 0.9000\n",
            "Epoch 4/10\n",
            "50000/50000 [==============================] - 8s 160us/step - loss: 0.3043 - acc: 0.9000 - val_loss: 0.2965 - val_acc: 0.9000\n",
            "Epoch 5/10\n",
            "50000/50000 [==============================] - 8s 160us/step - loss: 0.2966 - acc: 0.9003 - val_loss: 0.2890 - val_acc: 0.9007\n",
            "Epoch 6/10\n",
            "50000/50000 [==============================] - 8s 160us/step - loss: 0.2914 - acc: 0.9006 - val_loss: 0.2843 - val_acc: 0.9009\n",
            "Epoch 7/10\n",
            "50000/50000 [==============================] - 8s 161us/step - loss: 0.2878 - acc: 0.9007 - val_loss: 0.2810 - val_acc: 0.9010\n",
            "Epoch 8/10\n",
            "50000/50000 [==============================] - 8s 161us/step - loss: 0.2848 - acc: 0.9010 - val_loss: 0.2781 - val_acc: 0.9013\n",
            "Epoch 9/10\n",
            "50000/50000 [==============================] - 8s 161us/step - loss: 0.2823 - acc: 0.9011 - val_loss: 0.2754 - val_acc: 0.9018\n",
            "Epoch 10/10\n",
            "50000/50000 [==============================] - 8s 161us/step - loss: 0.2799 - acc: 0.9014 - val_loss: 0.2737 - val_acc: 0.9020\n"
          ],
          "name": "stdout"
        },
        {
          "output_type": "execute_result",
          "data": {
            "text/plain": [
              "<keras.callbacks.History at 0x7fad4fff28d0>"
            ]
          },
          "metadata": {
            "tags": []
          },
          "execution_count": 33
        }
      ]
    },
    {
      "metadata": {
        "id": "HpJSeGeoiQQl",
        "colab_type": "code",
        "colab": {}
      },
      "cell_type": "code",
      "source": [
        ""
      ],
      "execution_count": 0,
      "outputs": []
    }
  ]
}