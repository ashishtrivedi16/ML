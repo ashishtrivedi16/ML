{
  "nbformat": 4,
  "nbformat_minor": 0,
  "metadata": {
    "colab": {
      "name": "CIFAR100_cnn_tensorflow.ipynb",
      "version": "0.3.2",
      "provenance": [],
      "collapsed_sections": [],
      "include_colab_link": true
    },
    "kernelspec": {
      "name": "python3",
      "display_name": "Python 3"
    },
    "accelerator": "GPU"
  },
  "cells": [
    {
      "cell_type": "markdown",
      "metadata": {
        "id": "view-in-github",
        "colab_type": "text"
      },
      "source": [
        "<a href=\"https://colab.research.google.com/github/ashishtrivedi16/ML/blob/master/TF/CIFAR100_cnn_tensorflow.ipynb\" target=\"_parent\"><img src=\"https://colab.research.google.com/assets/colab-badge.svg\" alt=\"Open In Colab\"/></a>"
      ]
    },
    {
      "metadata": {
        "id": "OYhPyGF1aJUz",
        "colab_type": "code",
        "colab": {
          "base_uri": "https://localhost:8080/",
          "height": 34
        },
        "outputId": "3d70f131-5537-420e-9f19-7b94550b2989"
      },
      "cell_type": "code",
      "source": [
        "import numpy as np\n",
        "import pandas as pd\n",
        "import seaborn as sns\n",
        "import matplotlib.pyplot as plt\n",
        "import tensorflow as tf\n",
        "print(\"Loaded...\")"
      ],
      "execution_count": 1,
      "outputs": [
        {
          "output_type": "stream",
          "text": [
            "Loaded...\n"
          ],
          "name": "stdout"
        }
      ]
    },
    {
      "metadata": {
        "id": "go1q6xb-aZxq",
        "colab_type": "code",
        "colab": {
          "base_uri": "https://localhost:8080/",
          "height": 34
        },
        "outputId": "261691e2-45b0-4a99-ce59-157413ec8638"
      },
      "cell_type": "code",
      "source": [
        "tf.test.gpu_device_name()"
      ],
      "execution_count": 2,
      "outputs": [
        {
          "output_type": "execute_result",
          "data": {
            "text/plain": [
              "'/device:GPU:0'"
            ]
          },
          "metadata": {
            "tags": []
          },
          "execution_count": 2
        }
      ]
    },
    {
      "metadata": {
        "id": "EP7B2ssCahWh",
        "colab_type": "code",
        "colab": {
          "base_uri": "https://localhost:8080/",
          "height": 34
        },
        "outputId": "7daab28d-3bfd-4395-adf4-e3779f9a9b38"
      },
      "cell_type": "code",
      "source": [
        "from keras.models import Sequential\n",
        "from keras.layers import Conv2D\n",
        "from keras.layers import MaxPool2D\n",
        "from keras.layers import Dense\n",
        "from keras.layers import Flatten\n",
        "from keras.layers import Dropout\n",
        "from keras import backend as K"
      ],
      "execution_count": 3,
      "outputs": [
        {
          "output_type": "stream",
          "text": [
            "Using TensorFlow backend.\n"
          ],
          "name": "stderr"
        }
      ]
    },
    {
      "metadata": {
        "id": "v9oBFAc4ao7c",
        "colab_type": "code",
        "colab": {
          "base_uri": "https://localhost:8080/",
          "height": 51
        },
        "outputId": "46429c9f-19cd-499e-d351-8dbabce9949e"
      },
      "cell_type": "code",
      "source": [
        "(x_train, y_train), (x_test, y_test) = tf.keras.datasets.cifar100.load_data()"
      ],
      "execution_count": 4,
      "outputs": [
        {
          "output_type": "stream",
          "text": [
            "Downloading data from https://www.cs.toronto.edu/~kriz/cifar-100-python.tar.gz\n",
            "169009152/169001437 [==============================] - 24s 0us/step\n"
          ],
          "name": "stdout"
        }
      ]
    },
    {
      "metadata": {
        "id": "gwheC0sta9hi",
        "colab_type": "code",
        "colab": {
          "base_uri": "https://localhost:8080/",
          "height": 51
        },
        "outputId": "0c9968ca-7056-4f6e-db9a-79005816f6be"
      },
      "cell_type": "code",
      "source": [
        "img_col, img_row = 32, 32\n",
        "classes = 100\n",
        "batch_size = 128\n",
        "\n",
        "print(x_train.shape,\n",
        "     x_test.shape,\n",
        "     y_train.shape,\n",
        "     y_test.shape)\n",
        "\n",
        "if K.image_data_format() == 'channels_last':\n",
        "    x_train = x_train.reshape(x_train.shape[0], img_col, img_row, 3)\n",
        "    x_test = x_test.reshape(x_test.shape[0], img_col, img_row, 3)\n",
        "    input_shape = (img_col, img_row, 3)\n",
        "else:\n",
        "    x_train = x_train.reshape(x_train.shape[0], 3, img_col, img_row)\n",
        "    x_test = x_test.reshape(x_test.shape[0], 3, img_col, img_row)\n",
        "    input_shape = (3, img_col, img_row)\n",
        "    \n",
        "x_train = x_train.astype('float32')\n",
        "x_test = x_test.astype('float32')\n",
        "\n",
        "x_train /= 255\n",
        "x_test /= 255\n",
        "\n",
        "y_train = tf.keras.utils.to_categorical(y_train, num_classes = classes)\n",
        "y_test = tf.keras.utils.to_categorical(y_test, num_classes = classes)\n",
        "\n",
        "print(x_train.shape,\n",
        "     x_test.shape,\n",
        "     y_train.shape,\n",
        "     y_test.shape)"
      ],
      "execution_count": 5,
      "outputs": [
        {
          "output_type": "stream",
          "text": [
            "(50000, 32, 32, 3) (10000, 32, 32, 3) (50000, 1) (10000, 1)\n",
            "(50000, 32, 32, 3) (10000, 32, 32, 3) (50000, 100) (10000, 100)\n"
          ],
          "name": "stdout"
        }
      ]
    },
    {
      "metadata": {
        "id": "wdQ-8f-8cK9X",
        "colab_type": "code",
        "colab": {
          "base_uri": "https://localhost:8080/",
          "height": 408
        },
        "outputId": "bb1669fd-80c0-4ca9-a9e2-65ed203d854c"
      },
      "cell_type": "code",
      "source": [
        "model = Sequential()\n",
        "\n",
        "model.add(Conv2D(32,\n",
        "                (3,3),\n",
        "                input_shape = input_shape,\n",
        "                activation = 'relu'))\n",
        "\n",
        "model.add(Conv2D(64,\n",
        "                (3,3),\n",
        "                activation = 'relu'))\n",
        "\n",
        "model.add(MaxPool2D((2,2)))\n",
        "\n",
        "model.add(Dropout(0.20))\n",
        "\n",
        "model.add(Flatten())\n",
        "\n",
        "model.add(Dense(128,\n",
        "               activation = 'relu'))\n",
        "model.add(Dropout(0.20))\n",
        "\n",
        "model.add(Dense(classes,\n",
        "               activation = 'sigmoid'))\n",
        "\n",
        "model.summary()"
      ],
      "execution_count": 6,
      "outputs": [
        {
          "output_type": "stream",
          "text": [
            "_________________________________________________________________\n",
            "Layer (type)                 Output Shape              Param #   \n",
            "=================================================================\n",
            "conv2d_1 (Conv2D)            (None, 30, 30, 32)        896       \n",
            "_________________________________________________________________\n",
            "conv2d_2 (Conv2D)            (None, 28, 28, 64)        18496     \n",
            "_________________________________________________________________\n",
            "max_pooling2d_1 (MaxPooling2 (None, 14, 14, 64)        0         \n",
            "_________________________________________________________________\n",
            "dropout_1 (Dropout)          (None, 14, 14, 64)        0         \n",
            "_________________________________________________________________\n",
            "flatten_1 (Flatten)          (None, 12544)             0         \n",
            "_________________________________________________________________\n",
            "dense_1 (Dense)              (None, 128)               1605760   \n",
            "_________________________________________________________________\n",
            "dropout_2 (Dropout)          (None, 128)               0         \n",
            "_________________________________________________________________\n",
            "dense_2 (Dense)              (None, 100)               12900     \n",
            "=================================================================\n",
            "Total params: 1,638,052\n",
            "Trainable params: 1,638,052\n",
            "Non-trainable params: 0\n",
            "_________________________________________________________________\n"
          ],
          "name": "stdout"
        }
      ]
    },
    {
      "metadata": {
        "id": "XW6sVwdudwVu",
        "colab_type": "code",
        "colab": {}
      },
      "cell_type": "code",
      "source": [
        "model.compile(optimizer = 'SGD',\n",
        "             loss = 'binary_crossentropy',\n",
        "             metrics = ['accuracy', 'mse']\n",
        "             )"
      ],
      "execution_count": 0,
      "outputs": []
    },
    {
      "metadata": {
        "id": "R-_y-zAjfMRt",
        "colab_type": "code",
        "colab": {
          "base_uri": "https://localhost:8080/",
          "height": 1020
        },
        "outputId": "e124c164-baae-4d3b-a786-c887aa42178e"
      },
      "cell_type": "code",
      "source": [
        "model.fit(x = x_train,\n",
        "           y = y_train,\n",
        "           batch_size = batch_size,\n",
        "           epochs = 10,\n",
        "           shuffle = True,\n",
        "           validation_data = (x_test, y_test)\n",
        "           )"
      ],
      "execution_count": 8,
      "outputs": [
        {
          "output_type": "stream",
          "text": [
            "Train on 50000 samples, validate on 10000 samples\n",
            "Epoch 1/10\n",
            "50000/50000 [==============================] - 11s 220us/step - loss: 0.2780 - acc: 0.8952 - mean_squared_error: 0.0836 - val_loss: 0.0663 - val_acc: 0.9900 - val_mean_squared_error: 0.0101\n",
            "Epoch 2/10\n",
            "50000/50000 [==============================] - 8s 162us/step - loss: 0.0848 - acc: 0.9868 - mean_squared_error: 0.0140 - val_loss: 0.0646 - val_acc: 0.9900 - val_mean_squared_error: 0.0101\n",
            "Epoch 3/10\n",
            "50000/50000 [==============================] - 8s 163us/step - loss: 0.0780 - acc: 0.9886 - mean_squared_error: 0.0124 - val_loss: 0.0633 - val_acc: 0.9900 - val_mean_squared_error: 0.0101\n",
            "Epoch 4/10\n",
            "50000/50000 [==============================] - 8s 163us/step - loss: 0.0750 - acc: 0.9892 - mean_squared_error: 0.0118 - val_loss: 0.0626 - val_acc: 0.9900 - val_mean_squared_error: 0.0100\n",
            "Epoch 5/10\n",
            "50000/50000 [==============================] - 8s 163us/step - loss: 0.0731 - acc: 0.9895 - mean_squared_error: 0.0115 - val_loss: 0.0620 - val_acc: 0.9900 - val_mean_squared_error: 0.0100\n",
            "Epoch 6/10\n",
            "50000/50000 [==============================] - 8s 163us/step - loss: 0.0715 - acc: 0.9896 - mean_squared_error: 0.0113 - val_loss: 0.0615 - val_acc: 0.9900 - val_mean_squared_error: 0.0100\n",
            "Epoch 7/10\n",
            "50000/50000 [==============================] - 8s 163us/step - loss: 0.0703 - acc: 0.9897 - mean_squared_error: 0.0111 - val_loss: 0.0611 - val_acc: 0.9900 - val_mean_squared_error: 0.0100\n",
            "Epoch 8/10\n",
            "50000/50000 [==============================] - 8s 163us/step - loss: 0.0695 - acc: 0.9898 - mean_squared_error: 0.0110 - val_loss: 0.0606 - val_acc: 0.9900 - val_mean_squared_error: 0.0100\n",
            "Epoch 9/10\n",
            "50000/50000 [==============================] - 8s 163us/step - loss: 0.0685 - acc: 0.9899 - mean_squared_error: 0.0109 - val_loss: 0.0603 - val_acc: 0.9900 - val_mean_squared_error: 0.0100\n",
            "Epoch 10/10\n",
            "50000/50000 [==============================] - 8s 164us/step - loss: 0.0679 - acc: 0.9899 - mean_squared_error: 0.0108 - val_loss: 0.0600 - val_acc: 0.9900 - val_mean_squared_error: 0.0100\n"
          ],
          "name": "stdout"
        },
        {
          "output_type": "execute_result",
          "data": {
            "text/plain": [
              "<keras.callbacks.History at 0x7fad6469d940>"
            ]
          },
          "metadata": {
            "tags": []
          },
          "execution_count": 8
        }
      ]
    },
    {
      "metadata": {
        "id": "oKr0JO6Xfl-f",
        "colab_type": "code",
        "colab": {}
      },
      "cell_type": "code",
      "source": [
        ""
      ],
      "execution_count": 0,
      "outputs": []
    }
  ]
}