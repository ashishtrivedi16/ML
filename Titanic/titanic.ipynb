{
  "cells": [
    {
      "metadata": {
        "_uuid": "8f2839f25d086af736a60e9eeb907d3b93b6e0e5",
        "_cell_guid": "b1076dfc-b9ad-4769-8c92-a6c4dae69d19",
        "trusted": true
      },
      "cell_type": "code",
      "source": "import numpy as np\nimport pandas as pd\nimport seaborn as sns\n\n\n# Supress warnings\nimport warnings\nwarnings.filterwarnings(\"ignore\")\n\n# Classification\nfrom sklearn.tree import DecisionTreeClassifier\nfrom sklearn.neighbors import KNeighborsClassifier\nfrom sklearn.naive_bayes import GaussianNB\nfrom sklearn.svm import SVC, LinearSVC\nfrom xgboost import XGBClassifier\nfrom sklearn.ensemble import RandomForestClassifier , GradientBoostingClassifier\nfrom sklearn.discriminant_analysis import LinearDiscriminantAnalysis , QuadraticDiscriminantAnalysis\n\n# Regression\nfrom sklearn.linear_model import LinearRegression,Ridge,Lasso,RidgeCV, ElasticNet\nfrom sklearn.ensemble import RandomForestRegressor,BaggingRegressor,GradientBoostingRegressor,AdaBoostRegressor \nfrom sklearn.svm import SVR\nfrom sklearn.neighbors import KNeighborsRegressor\nfrom sklearn.neural_network import MLPRegressor\nfrom xgboost import XGBRegressor\n\n# Modelling Helpers :\nfrom sklearn.preprocessing import Imputer , Normalizer , scale\nfrom sklearn.model_selection import train_test_split\nfrom sklearn.feature_selection import RFECV\nfrom sklearn.model_selection import GridSearchCV , KFold , cross_val_score\n\n# Preprocessing :\nfrom sklearn.preprocessing import MinMaxScaler , StandardScaler, Imputer, LabelEncoder\n\n# Metrics :\n# Regression\nfrom sklearn.metrics import mean_squared_log_error,mean_squared_error, r2_score,mean_absolute_error \n# Classification\nfrom sklearn.metrics import accuracy_score,precision_score,recall_score,f1_score\n\n# Any results you write to the current directory are saved as output.\ndata = pd.read_csv('../input/train.csv')\nprint('Data Loaded')",
      "execution_count": null,
      "outputs": []
    },
    {
      "metadata": {
        "trusted": true,
        "_uuid": "8bf6818e6a43808b7a9a22045b50654053203bb7"
      },
      "cell_type": "code",
      "source": "# Checking out the data\ndata.describe()",
      "execution_count": null,
      "outputs": []
    },
    {
      "metadata": {
        "trusted": true,
        "_uuid": "a52594fd7644315893c5d6784665377410230ee8"
      },
      "cell_type": "code",
      "source": "data.drop(['PassengerId', 'Name', 'Ticket', 'Cabin'], axis = 1, inplace = True)",
      "execution_count": null,
      "outputs": []
    },
    {
      "metadata": {
        "trusted": true,
        "_uuid": "194bde8006fc27f95860ac58ca5393150788e3b9"
      },
      "cell_type": "code",
      "source": "data.head(5)",
      "execution_count": null,
      "outputs": []
    },
    {
      "metadata": {
        "trusted": true,
        "_uuid": "479333909dd3435c30abaf9ff0b4e331a1e18019"
      },
      "cell_type": "code",
      "source": "# Checking for NULL values\ndata.isnull().sum()",
      "execution_count": null,
      "outputs": []
    },
    {
      "metadata": {
        "trusted": true,
        "_uuid": "390db768217a94121a78fea47454fd7b5a4a59b6"
      },
      "cell_type": "code",
      "source": "data['Embarked'].value_counts()",
      "execution_count": null,
      "outputs": []
    },
    {
      "metadata": {
        "trusted": true,
        "_uuid": "4a9a2f4b8af2c2afac9a081681546599ce215d76"
      },
      "cell_type": "code",
      "source": "# Since majority of people Embarked from S, i'm gonna fill the missing data with S\ndata['Embarked'] = data['Embarked'].fillna(value = 'S')",
      "execution_count": null,
      "outputs": []
    },
    {
      "metadata": {
        "trusted": true,
        "_uuid": "44bbc72f9949cf570d883fae101126a102ee1aa5"
      },
      "cell_type": "code",
      "source": "data.isnull().sum()",
      "execution_count": null,
      "outputs": []
    },
    {
      "metadata": {
        "trusted": true,
        "_uuid": "e750415d224b5cad782507ac396938b5c0668990"
      },
      "cell_type": "code",
      "source": "# Filling missing Age values with mean of all ages\ndata['Age'] = data['Age'].fillna(value = data['Age'].mean())\ndata.head(5)",
      "execution_count": null,
      "outputs": []
    },
    {
      "metadata": {
        "trusted": true,
        "_uuid": "99b5d61f8d4278b83d6b2fd3bb9104f6b4e3a03c"
      },
      "cell_type": "code",
      "source": "",
      "execution_count": null,
      "outputs": []
    },
    {
      "metadata": {
        "trusted": true,
        "_uuid": "b3d0ec9dc59007f386cbd78e82a660c899e19bac"
      },
      "cell_type": "code",
      "source": "# Generating heatmap to find correlation between features\ncorr = data.corr()\nsns.heatmap(data = corr, square = True, annot = True, cbar = True)",
      "execution_count": null,
      "outputs": []
    },
    {
      "metadata": {
        "trusted": true,
        "_uuid": "52b9142a1aea95328b6123c57de5f3c2f1b2a375"
      },
      "cell_type": "code",
      "source": "sns.barplot(x = 'Embarked', y = 'Survived', hue = 'Sex', data = data)",
      "execution_count": null,
      "outputs": []
    },
    {
      "metadata": {
        "trusted": true,
        "_uuid": "b8fb1ca7b78b49def14bc07384e07117a3001c49"
      },
      "cell_type": "code",
      "source": "sns.barplot(x = 'Survived', y = 'Fare', hue = 'Pclass', data = data)",
      "execution_count": null,
      "outputs": []
    },
    {
      "metadata": {
        "trusted": true,
        "_uuid": "d177403f3a9c9c089aef7fe16eb998ae9473c81e"
      },
      "cell_type": "code",
      "source": "sns.barplot(x = 'Pclass', y = 'Parch', hue = 'Sex', data = data)",
      "execution_count": null,
      "outputs": []
    },
    {
      "metadata": {
        "trusted": true,
        "_uuid": "52cea0a16ef84b8077edf04a314412f94da597f1"
      },
      "cell_type": "code",
      "source": "# Using LabelEncoder to generate numeric data\ncolumns = ['Sex', 'Embarked']\nle = LabelEncoder()\nfor col in columns:\n    data[col] = le.fit_transform(data[col])",
      "execution_count": null,
      "outputs": []
    },
    {
      "metadata": {
        "trusted": true,
        "_uuid": "285a8b5043f631b458276cd1ad2a2229fb5287a0"
      },
      "cell_type": "code",
      "source": "# Generating test and train cases\narray = data.values\nX = array[ : , 1: ]\nY = array[ : , 0]\n\ntrain_x, test_x, train_y, test_y = train_test_split(X, Y, test_size = 0.20, random_state = 1)",
      "execution_count": null,
      "outputs": []
    },
    {
      "metadata": {
        "trusted": true,
        "_uuid": "76d4705e82f382f13c609daf8b643d82cea32206"
      },
      "cell_type": "code",
      "source": "models = [('LinearRegression', LinearRegression()),\n          ('Ridge', Ridge(normalize = True)),\n          ('Lasso', Lasso(normalize = True)),\n          ('RidgeCV', RidgeCV(alphas=[1e-3, 1e-2, 1e-1, 1])),\n          ('ElasticNet', ElasticNet(random_state = 1)),\n          ('RandomForestRegressor', RandomForestRegressor(max_depth=2, random_state=1, n_estimators=1000)),\n          ('BaggingRegressor', BaggingRegressor()),\n          ('GradientBoostingRegressor', GradientBoostingRegressor(n_estimators = 1000, learning_rate = 0.05,max_depth = 1, random_state = 1)),\n          ('AdaBoostRegressor', AdaBoostRegressor(n_estimators = 1000)),\n          ('KNeighborsRegressor', KNeighborsRegressor()),\n          ('XGBoost', XGBClassifier(learning_rate = 0.2, n_estimators = 1000, max_depth = 5, min_child_weight = 1, gamma = 0.2, seed = 7))\n         ]\n\nfor name, model in models:\n    model.fit(train_x, train_y)\n    pred = model.predict(test_x).astype(int)\n    print(name, accuracy_score(test_y, pred))",
      "execution_count": null,
      "outputs": []
    },
    {
      "metadata": {
        "trusted": true,
        "_uuid": "4fa6dc7c0ee51280cfc853a0ee1511d6c17e109d"
      },
      "cell_type": "code",
      "source": "",
      "execution_count": null,
      "outputs": []
    }
  ],
  "metadata": {
    "kernelspec": {
      "display_name": "Python 3",
      "language": "python",
      "name": "python3"
    },
    "language_info": {
      "name": "python",
      "version": "3.6.6",
      "mimetype": "text/x-python",
      "codemirror_mode": {
        "name": "ipython",
        "version": 3
      },
      "pygments_lexer": "ipython3",
      "nbconvert_exporter": "python",
      "file_extension": ".py"
    }
  },
  "nbformat": 4,
  "nbformat_minor": 1
}