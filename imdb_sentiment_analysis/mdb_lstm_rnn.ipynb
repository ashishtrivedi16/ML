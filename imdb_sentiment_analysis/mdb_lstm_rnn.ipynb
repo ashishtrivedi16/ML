{
  "nbformat": 4,
  "nbformat_minor": 0,
  "metadata": {
    "colab": {
      "name": "imdb_lstm_rnn.ipynb",
      "version": "0.3.2",
      "provenance": [],
      "collapsed_sections": [],
      "include_colab_link": true
    },
    "kernelspec": {
      "name": "python3",
      "display_name": "Python 3"
    },
    "accelerator": "GPU"
  },
  "cells": [
    {
      "cell_type": "markdown",
      "metadata": {
        "id": "view-in-github",
        "colab_type": "text"
      },
      "source": [
        "<a href=\"https://colab.research.google.com/github/ashishtrivedi16/ML/blob/master/imdb_sentiment_analysis/mdb_lstm_rnn.ipynb\" target=\"_parent\"><img src=\"https://colab.research.google.com/assets/colab-badge.svg\" alt=\"Open In Colab\"/></a>"
      ]
    },
    {
      "metadata": {
        "id": "lCdSeh12KN7-",
        "colab_type": "code",
        "colab": {}
      },
      "cell_type": "code",
      "source": [
        "import numpy as np\n",
        "import pandas as pd\n",
        "import tensorflow as tf"
      ],
      "execution_count": 0,
      "outputs": []
    },
    {
      "metadata": {
        "id": "X-kp9z-QKYvO",
        "colab_type": "code",
        "colab": {}
      },
      "cell_type": "code",
      "source": [
        "from keras.datasets import imdb\n",
        "from keras.models import Sequential\n",
        "from keras.layers import LSTM, Dense\n",
        "from keras.preprocessing import sequence\n",
        "from keras.layers import Embedding, Conv1D, Dropout"
      ],
      "execution_count": 0,
      "outputs": []
    },
    {
      "metadata": {
        "id": "wMWBz7egKfqj",
        "colab_type": "code",
        "colab": {}
      },
      "cell_type": "code",
      "source": [
        "top_words = 5000\n",
        "(x_train, y_train), (x_test, y_test) = imdb.load_data(num_words = top_words)"
      ],
      "execution_count": 0,
      "outputs": []
    },
    {
      "metadata": {
        "id": "0cNANuXTMnLB",
        "colab_type": "code",
        "colab": {}
      },
      "cell_type": "code",
      "source": [
        "max_review_length = 500\n",
        "x_train = sequence.pad_sequences(x_train, maxlen = max_review_length)\n",
        "x_test = sequence.pad_sequences(x_test, maxlen = max_review_length)"
      ],
      "execution_count": 0,
      "outputs": []
    },
    {
      "metadata": {
        "id": "HfcuA7SWOEX2",
        "colab_type": "code",
        "colab": {
          "base_uri": "https://localhost:8080/",
          "height": 306
        },
        "outputId": "c5b92e68-ebdc-434c-f994-e7b7d1a1a96c"
      },
      "cell_type": "code",
      "source": [
        "embedding_vector_length = 32\n",
        "model = Sequential()\n",
        "model.add(Embedding(top_words, embedding_vector_length, input_length = max_review_length))\n",
        "model.add(Conv1D(32, activation = 'relu', kernel_size = 3, padding = 'same'))\n",
        "model.add(LSTM(100, dropout = 0.20, recurrent_dropout = 0.20))\n",
        "model.add(Dropout(0.20))\n",
        "model.add(Dense(1, activation = 'sigmoid'))\n",
        "model.summary()\n",
        "\n",
        "model.compile('adam', loss = 'binary_crossentropy', metrics = ['accuracy'])\n"
      ],
      "execution_count": 41,
      "outputs": [
        {
          "output_type": "stream",
          "text": [
            "_________________________________________________________________\n",
            "Layer (type)                 Output Shape              Param #   \n",
            "=================================================================\n",
            "embedding_6 (Embedding)      (None, 500, 32)           160000    \n",
            "_________________________________________________________________\n",
            "conv1d_2 (Conv1D)            (None, 500, 32)           3104      \n",
            "_________________________________________________________________\n",
            "lstm_5 (LSTM)                (None, 100)               53200     \n",
            "_________________________________________________________________\n",
            "dropout_1 (Dropout)          (None, 100)               0         \n",
            "_________________________________________________________________\n",
            "dense_5 (Dense)              (None, 1)                 101       \n",
            "=================================================================\n",
            "Total params: 216,405\n",
            "Trainable params: 216,405\n",
            "Non-trainable params: 0\n",
            "_________________________________________________________________\n"
          ],
          "name": "stdout"
        }
      ]
    },
    {
      "metadata": {
        "id": "GYLe9lDcPbH8",
        "colab_type": "code",
        "colab": {
          "base_uri": "https://localhost:8080/",
          "height": 374
        },
        "outputId": "afaf61c5-d8f2-4b3f-fd93-c7b5ae83bf81"
      },
      "cell_type": "code",
      "source": [
        "model.fit(x = x_train, y = y_train, epochs = 10, batch_size = 1024)"
      ],
      "execution_count": 42,
      "outputs": [
        {
          "output_type": "stream",
          "text": [
            "Epoch 1/10\n",
            "25000/25000 [==============================] - 39s 2ms/step - loss: 0.6896 - acc: 0.5635\n",
            "Epoch 2/10\n",
            "25000/25000 [==============================] - 36s 1ms/step - loss: 0.6134 - acc: 0.6997\n",
            "Epoch 3/10\n",
            "25000/25000 [==============================] - 35s 1ms/step - loss: 0.4704 - acc: 0.7872\n",
            "Epoch 4/10\n",
            "25000/25000 [==============================] - 35s 1ms/step - loss: 0.3968 - acc: 0.8298\n",
            "Epoch 5/10\n",
            "25000/25000 [==============================] - 35s 1ms/step - loss: 0.3618 - acc: 0.8474\n",
            "Epoch 6/10\n",
            "25000/25000 [==============================] - 35s 1ms/step - loss: 0.3208 - acc: 0.8684\n",
            "Epoch 7/10\n",
            "25000/25000 [==============================] - 35s 1ms/step - loss: 0.3199 - acc: 0.8696\n",
            "Epoch 8/10\n",
            "25000/25000 [==============================] - 35s 1ms/step - loss: 0.2972 - acc: 0.8830\n",
            "Epoch 9/10\n",
            "25000/25000 [==============================] - 36s 1ms/step - loss: 0.2868 - acc: 0.8858\n",
            "Epoch 10/10\n",
            "25000/25000 [==============================] - 35s 1ms/step - loss: 0.2679 - acc: 0.8959\n"
          ],
          "name": "stdout"
        },
        {
          "output_type": "execute_result",
          "data": {
            "text/plain": [
              "<keras.callbacks.History at 0x7f6d9b3cb160>"
            ]
          },
          "metadata": {
            "tags": []
          },
          "execution_count": 42
        }
      ]
    },
    {
      "metadata": {
        "id": "nmTnRVHZPuQT",
        "colab_type": "code",
        "colab": {
          "base_uri": "https://localhost:8080/",
          "height": 34
        },
        "outputId": "b7ad2c28-1098-40df-8b30-18292bab831f"
      },
      "cell_type": "code",
      "source": [
        "loss, accuracy = model.evaluate(x_test, y_test, batch_size = 2048)"
      ],
      "execution_count": 43,
      "outputs": [
        {
          "output_type": "stream",
          "text": [
            "25000/25000 [==============================] - 8s 306us/step\n"
          ],
          "name": "stdout"
        }
      ]
    },
    {
      "metadata": {
        "id": "Ezp0dukYQxsW",
        "colab_type": "code",
        "colab": {
          "base_uri": "https://localhost:8080/",
          "height": 34
        },
        "outputId": "ff672dac-b6e6-4c93-db71-0851affc96bd"
      },
      "cell_type": "code",
      "source": [
        "print(\"Accuracy of model is: \", accuracy*100)"
      ],
      "execution_count": 44,
      "outputs": [
        {
          "output_type": "stream",
          "text": [
            "Accuracy of model is:  85.66000000953674\n"
          ],
          "name": "stdout"
        }
      ]
    }
  ]
}