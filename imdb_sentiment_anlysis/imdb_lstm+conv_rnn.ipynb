{
  "nbformat": 4,
  "nbformat_minor": 0,
  "metadata": {
    "colab": {
      "name": "imdb_lstm+conv_rnn.ipynb",
      "version": "0.3.2",
      "provenance": [],
      "collapsed_sections": [],
      "include_colab_link": true
    },
    "kernelspec": {
      "name": "python3",
      "display_name": "Python 3"
    },
    "accelerator": "GPU"
  },
  "cells": [
    {
      "cell_type": "markdown",
      "metadata": {
        "id": "view-in-github",
        "colab_type": "text"
      },
      "source": [
        "<a href=\"https://colab.research.google.com/github/ashishtrivedi16/ML/blob/master/imdb_sentiment_anlysis/imdb_lstm%2Bconv_rnn.ipynb\" target=\"_parent\"><img src=\"https://colab.research.google.com/assets/colab-badge.svg\" alt=\"Open In Colab\"/></a>"
      ]
    },
    {
      "metadata": {
        "id": "lCdSeh12KN7-",
        "colab_type": "code",
        "colab": {}
      },
      "cell_type": "code",
      "source": [
        "import numpy as np\n",
        "import pandas as pd\n",
        "import tensorflow as tf"
      ],
      "execution_count": 0,
      "outputs": []
    },
    {
      "metadata": {
        "id": "X-kp9z-QKYvO",
        "colab_type": "code",
        "colab": {}
      },
      "cell_type": "code",
      "source": [
        "from keras.datasets import imdb\n",
        "from keras.models import Sequential\n",
        "from keras.layers import LSTM, Dense\n",
        "from keras.preprocessing import sequence\n",
        "from keras.layers import Embedding, Conv1D, Dropout"
      ],
      "execution_count": 0,
      "outputs": []
    },
    {
      "metadata": {
        "id": "wMWBz7egKfqj",
        "colab_type": "code",
        "colab": {}
      },
      "cell_type": "code",
      "source": [
        "top_words = 5000\n",
        "(x_train, y_train), (x_test, y_test) = imdb.load_data(num_words = top_words)"
      ],
      "execution_count": 0,
      "outputs": []
    },
    {
      "metadata": {
        "id": "0cNANuXTMnLB",
        "colab_type": "code",
        "colab": {}
      },
      "cell_type": "code",
      "source": [
        "max_review_length = 500\n",
        "x_train = sequence.pad_sequences(x_train, maxlen = max_review_length)\n",
        "x_test = sequence.pad_sequences(x_test, maxlen = max_review_length)"
      ],
      "execution_count": 0,
      "outputs": []
    },
    {
      "metadata": {
        "id": "HfcuA7SWOEX2",
        "colab_type": "code",
        "colab": {
          "base_uri": "https://localhost:8080/",
          "height": 306
        },
        "outputId": "87a370a7-4264-4d60-b61a-4921cab00511"
      },
      "cell_type": "code",
      "source": [
        "embedding_vector_length = 32\n",
        "model = Sequential()\n",
        "model.add(Embedding(top_words, embedding_vector_length, input_length = max_review_length))\n",
        "model.add(Conv1D(32, activation = 'relu', kernel_size = 3, padding = 'same'))\n",
        "model.add(LSTM(100, dropout = 0.20, recurrent_dropout = 0.20))\n",
        "model.add(Dropout(0.30))\n",
        "model.add(Dense(1, activation = 'sigmoid'))\n",
        "model.summary()\n",
        "\n",
        "model.compile('adam', loss = 'binary_crossentropy', metrics = ['accuracy'])\n"
      ],
      "execution_count": 45,
      "outputs": [
        {
          "output_type": "stream",
          "text": [
            "_________________________________________________________________\n",
            "Layer (type)                 Output Shape              Param #   \n",
            "=================================================================\n",
            "embedding_7 (Embedding)      (None, 500, 32)           160000    \n",
            "_________________________________________________________________\n",
            "conv1d_3 (Conv1D)            (None, 500, 32)           3104      \n",
            "_________________________________________________________________\n",
            "lstm_6 (LSTM)                (None, 100)               53200     \n",
            "_________________________________________________________________\n",
            "dropout_2 (Dropout)          (None, 100)               0         \n",
            "_________________________________________________________________\n",
            "dense_6 (Dense)              (None, 1)                 101       \n",
            "=================================================================\n",
            "Total params: 216,405\n",
            "Trainable params: 216,405\n",
            "Non-trainable params: 0\n",
            "_________________________________________________________________\n"
          ],
          "name": "stdout"
        }
      ]
    },
    {
      "metadata": {
        "id": "GYLe9lDcPbH8",
        "colab_type": "code",
        "colab": {
          "base_uri": "https://localhost:8080/",
          "height": 374
        },
        "outputId": "4eb0a284-c5ca-4ae1-ea3e-12cf441c75a3"
      },
      "cell_type": "code",
      "source": [
        "model.fit(x = x_train, y = y_train, epochs = 10, batch_size = 64)"
      ],
      "execution_count": 46,
      "outputs": [
        {
          "output_type": "stream",
          "text": [
            "Epoch 1/10\n",
            "25000/25000 [==============================] - 464s 19ms/step - loss: 0.5244 - acc: 0.7288\n",
            "Epoch 2/10\n",
            "25000/25000 [==============================] - 464s 19ms/step - loss: 0.3628 - acc: 0.8484\n",
            "Epoch 3/10\n",
            "25000/25000 [==============================] - 463s 19ms/step - loss: 0.3100 - acc: 0.8751\n",
            "Epoch 4/10\n",
            "25000/25000 [==============================] - 462s 18ms/step - loss: 0.2778 - acc: 0.8928\n",
            "Epoch 5/10\n",
            "25000/25000 [==============================] - 462s 18ms/step - loss: 0.2485 - acc: 0.9026\n",
            "Epoch 6/10\n",
            "25000/25000 [==============================] - 463s 19ms/step - loss: 0.2288 - acc: 0.9124\n",
            "Epoch 7/10\n",
            "25000/25000 [==============================] - 464s 19ms/step - loss: 0.2038 - acc: 0.9251\n",
            "Epoch 8/10\n",
            "25000/25000 [==============================] - 463s 19ms/step - loss: 0.1962 - acc: 0.9279\n",
            "Epoch 9/10\n",
            "25000/25000 [==============================] - 465s 19ms/step - loss: 0.1984 - acc: 0.9273\n",
            "Epoch 10/10\n",
            "25000/25000 [==============================] - 464s 19ms/step - loss: 0.1912 - acc: 0.9308\n"
          ],
          "name": "stdout"
        },
        {
          "output_type": "execute_result",
          "data": {
            "text/plain": [
              "<keras.callbacks.History at 0x7f6d9b426320>"
            ]
          },
          "metadata": {
            "tags": []
          },
          "execution_count": 46
        }
      ]
    },
    {
      "metadata": {
        "id": "nmTnRVHZPuQT",
        "colab_type": "code",
        "colab": {
          "base_uri": "https://localhost:8080/",
          "height": 34
        },
        "outputId": "33b15ecb-fd76-4248-83eb-153660fcc77e"
      },
      "cell_type": "code",
      "source": [
        "loss, accuracy = model.evaluate(x_test, y_test, batch_size = 2048)"
      ],
      "execution_count": 47,
      "outputs": [
        {
          "output_type": "stream",
          "text": [
            "25000/25000 [==============================] - 8s 308us/step\n"
          ],
          "name": "stdout"
        }
      ]
    },
    {
      "metadata": {
        "id": "Ezp0dukYQxsW",
        "colab_type": "code",
        "colab": {
          "base_uri": "https://localhost:8080/",
          "height": 34
        },
        "outputId": "1b0f6941-6afc-42da-9bdf-2d94d7bfab32"
      },
      "cell_type": "code",
      "source": [
        "print(\"Accuracy of model is: \", accuracy*100)"
      ],
      "execution_count": 48,
      "outputs": [
        {
          "output_type": "stream",
          "text": [
            "Accuracy of model is:  87.73200004768371\n"
          ],
          "name": "stdout"
        }
      ]
    }
  ]
}