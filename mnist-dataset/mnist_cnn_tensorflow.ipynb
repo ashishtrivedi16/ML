{
  "nbformat": 4,
  "nbformat_minor": 0,
  "metadata": {
    "colab": {
      "name": "mnist_tensorflow.ipynb",
      "version": "0.3.2",
      "provenance": [],
      "include_colab_link": true
    },
    "kernelspec": {
      "name": "python3",
      "display_name": "Python 3"
    },
    "accelerator": "GPU"
  },
  "cells": [
    {
      "cell_type": "markdown",
      "metadata": {
        "id": "view-in-github",
        "colab_type": "text"
      },
      "source": [
        "<a href=\"https://colab.research.google.com/github/ashishtrivedi16/ML/blob/master/TF/mnist_cnn_tensorflow.ipynb\" target=\"_parent\"><img src=\"https://colab.research.google.com/assets/colab-badge.svg\" alt=\"Open In Colab\"/></a>"
      ]
    },
    {
      "metadata": {
        "id": "Mb2yFIsP_nNS",
        "colab_type": "code",
        "outputId": "182876db-df37-4e66-9ed4-8b92a81e992c",
        "colab": {
          "base_uri": "https://localhost:8080/",
          "height": 34
        }
      },
      "cell_type": "code",
      "source": [
        "import numpy as np\n",
        "import pandas as pd\n",
        "import seaborn as sns\n",
        "import tensorflow as tf\n",
        "import matplotlib.pyplot as plt\n",
        "print(\"Setup complete...\")"
      ],
      "execution_count": 1,
      "outputs": [
        {
          "output_type": "stream",
          "text": [
            "Setup complete...\n"
          ],
          "name": "stdout"
        }
      ]
    },
    {
      "metadata": {
        "colab_type": "code",
        "outputId": "d4218ee3-fc8c-41b5-b993-a4a7a96e3f85",
        "id": "WPSUf7NLh96_",
        "colab": {
          "base_uri": "https://localhost:8080/",
          "height": 34
        }
      },
      "cell_type": "code",
      "source": [
        "tf.test.gpu_device_name()"
      ],
      "execution_count": 2,
      "outputs": [
        {
          "output_type": "execute_result",
          "data": {
            "text/plain": [
              "'/device:GPU:0'"
            ]
          },
          "metadata": {
            "tags": []
          },
          "execution_count": 2
        }
      ]
    },
    {
      "metadata": {
        "id": "_o2b15ZzKmXX",
        "colab_type": "code",
        "colab": {}
      },
      "cell_type": "code",
      "source": [
        "from keras.models import Sequential\n",
        "from keras.layers import Conv2D\n",
        "from keras.layers import MaxPool2D\n",
        "from keras.layers import Dense\n",
        "from keras.layers import Flatten\n",
        "from keras.layers import Dropout"
      ],
      "execution_count": 0,
      "outputs": []
    },
    {
      "metadata": {
        "id": "5TYaN8UPwMU4",
        "colab_type": "code",
        "colab": {}
      },
      "cell_type": "code",
      "source": [
        "batch_size = 128\n",
        "img_col, img_row = 28, 28\n",
        "classes = 10\n",
        "epochs = 20"
      ],
      "execution_count": 0,
      "outputs": []
    },
    {
      "metadata": {
        "id": "bzy82qmaEhE0",
        "colab_type": "code",
        "outputId": "542973f5-1083-4875-886e-9857beaa5ded",
        "colab": {
          "base_uri": "https://localhost:8080/",
          "height": 34
        }
      },
      "cell_type": "code",
      "source": [
        "(x_train, y_train), (x_test, y_test) = tf.keras.datasets.mnist.load_data()\n",
        "\n",
        "from keras import backend as K\n",
        "\n",
        "if K.image_data_format() == 'channels_last':\n",
        "    x_train = x_train.reshape((x_train.shape[0], img_col, img_row, 1))\n",
        "    x_test = x_test.reshape((x_test.shape[0], img_col, img_row, 1))\n",
        "    input_shape = (img_col, img_row, 1)\n",
        "else:\n",
        "    x_train = x_train.reshape((x_train.shape[0], 1, img_col, img_row))\n",
        "    x_test = x_test.reshape((x_test.shape[0], 1, img_col, img_row))\n",
        "    input_shape = (1, img_col, img_row)\n",
        "    \n",
        "x_train = x_train.astype('float32')\n",
        "x_test = x_test.astype('float32')\n",
        "\n",
        "y_train = tf.keras.utils.to_categorical(y_train, num_classes = classes)\n",
        "y_test = tf.keras.utils.to_categorical(y_test, num_classes = classes)\n",
        "\n",
        "print(x_train.shape,\n",
        "     x_test.shape,\n",
        "     y_train.shape,\n",
        "     y_test.shape)"
      ],
      "execution_count": 10,
      "outputs": [
        {
          "output_type": "stream",
          "text": [
            "(60000, 28, 28, 1) (10000, 28, 28, 1) (60000, 10) (10000, 10)\n"
          ],
          "name": "stdout"
        }
      ]
    },
    {
      "metadata": {
        "id": "i0xv5qWaEwrc",
        "colab_type": "code",
        "outputId": "231ee212-8f60-48df-88a6-09a8c9e142b0",
        "colab": {
          "base_uri": "https://localhost:8080/",
          "height": 408
        }
      },
      "cell_type": "code",
      "source": [
        "model = Sequential()\n",
        "\n",
        "model.add(Conv2D(32,\n",
        "                (3,3),\n",
        "                input_shape = input_shape,\n",
        "                activation = 'relu'\n",
        "                )\n",
        "         )\n",
        "\n",
        "model.add(Conv2D(64,\n",
        "                (3,3),\n",
        "                activation = 'relu'\n",
        "                )\n",
        "         )\n",
        "\n",
        "model.add(MaxPool2D(pool_size = (2,2)))\n",
        "model.add(Dropout(0.25))\n",
        "model.add(Flatten())\n",
        "model.add(Dense(128, activation = 'relu'))\n",
        "model.add(Dropout(0.25))\n",
        "model.add(Dense(classes, activation = 'sigmoid'))\n",
        "\n",
        "model.summary()"
      ],
      "execution_count": 11,
      "outputs": [
        {
          "output_type": "stream",
          "text": [
            "_________________________________________________________________\n",
            "Layer (type)                 Output Shape              Param #   \n",
            "=================================================================\n",
            "conv2d_3 (Conv2D)            (None, 26, 26, 32)        320       \n",
            "_________________________________________________________________\n",
            "conv2d_4 (Conv2D)            (None, 24, 24, 64)        18496     \n",
            "_________________________________________________________________\n",
            "max_pooling2d_2 (MaxPooling2 (None, 12, 12, 64)        0         \n",
            "_________________________________________________________________\n",
            "dropout_1 (Dropout)          (None, 12, 12, 64)        0         \n",
            "_________________________________________________________________\n",
            "flatten_1 (Flatten)          (None, 9216)              0         \n",
            "_________________________________________________________________\n",
            "dense_1 (Dense)              (None, 128)               1179776   \n",
            "_________________________________________________________________\n",
            "dropout_2 (Dropout)          (None, 128)               0         \n",
            "_________________________________________________________________\n",
            "dense_2 (Dense)              (None, 10)                1290      \n",
            "=================================================================\n",
            "Total params: 1,199,882\n",
            "Trainable params: 1,199,882\n",
            "Non-trainable params: 0\n",
            "_________________________________________________________________\n"
          ],
          "name": "stdout"
        }
      ]
    },
    {
      "metadata": {
        "id": "JN25vdORXPgY",
        "colab_type": "code",
        "colab": {}
      },
      "cell_type": "code",
      "source": [
        "model.compile(optimizer='SGD',\n",
        "             loss='binary_crossentropy',\n",
        "             metrics=['accuracy'])"
      ],
      "execution_count": 0,
      "outputs": []
    },
    {
      "metadata": {
        "id": "RRpnQk4sZSV6",
        "colab_type": "code",
        "outputId": "507db9bd-3394-43b5-9586-c0eb2db9f940",
        "colab": {
          "base_uri": "https://localhost:8080/",
          "height": 714
        }
      },
      "cell_type": "code",
      "source": [
        "res = model.fit(x_train,\n",
        "         y_train,\n",
        "         batch_size = batch_size,\n",
        "         epochs = epochs,\n",
        "         validation_data = (x_test, y_test),\n",
        "         )"
      ],
      "execution_count": 13,
      "outputs": [
        {
          "output_type": "stream",
          "text": [
            "Train on 60000 samples, validate on 10000 samples\n",
            "Epoch 1/20\n",
            "60000/60000 [==============================] - 9s 145us/step - loss: 0.2021 - acc: 0.9523 - val_loss: 0.0376 - val_acc: 0.9879\n",
            "Epoch 2/20\n",
            "60000/60000 [==============================] - 7s 123us/step - loss: 0.0624 - acc: 0.9787 - val_loss: 0.0256 - val_acc: 0.9917\n",
            "Epoch 3/20\n",
            "60000/60000 [==============================] - 7s 123us/step - loss: 0.0476 - acc: 0.9840 - val_loss: 0.0207 - val_acc: 0.9931\n",
            "Epoch 4/20\n",
            "60000/60000 [==============================] - 7s 123us/step - loss: 0.0394 - acc: 0.9866 - val_loss: 0.0177 - val_acc: 0.9939\n",
            "Epoch 5/20\n",
            "60000/60000 [==============================] - 7s 123us/step - loss: 0.0338 - acc: 0.9887 - val_loss: 0.0156 - val_acc: 0.9947\n",
            "Epoch 6/20\n",
            "60000/60000 [==============================] - 7s 123us/step - loss: 0.0306 - acc: 0.9897 - val_loss: 0.0141 - val_acc: 0.9951\n",
            "Epoch 7/20\n",
            "60000/60000 [==============================] - 7s 123us/step - loss: 0.0276 - acc: 0.9906 - val_loss: 0.0132 - val_acc: 0.9952\n",
            "Epoch 8/20\n",
            "60000/60000 [==============================] - 7s 123us/step - loss: 0.0263 - acc: 0.9912 - val_loss: 0.0124 - val_acc: 0.9956\n",
            "Epoch 9/20\n",
            "60000/60000 [==============================] - 7s 123us/step - loss: 0.0239 - acc: 0.9920 - val_loss: 0.0115 - val_acc: 0.9959\n",
            "Epoch 10/20\n",
            "60000/60000 [==============================] - 7s 123us/step - loss: 0.0227 - acc: 0.9924 - val_loss: 0.0110 - val_acc: 0.9960\n",
            "Epoch 11/20\n",
            "60000/60000 [==============================] - 7s 124us/step - loss: 0.0214 - acc: 0.9929 - val_loss: 0.0104 - val_acc: 0.9962\n",
            "Epoch 12/20\n",
            "60000/60000 [==============================] - 7s 124us/step - loss: 0.0202 - acc: 0.9932 - val_loss: 0.0100 - val_acc: 0.9963\n",
            "Epoch 13/20\n",
            "60000/60000 [==============================] - 7s 123us/step - loss: 0.0190 - acc: 0.9937 - val_loss: 0.0100 - val_acc: 0.9963\n",
            "Epoch 14/20\n",
            "60000/60000 [==============================] - 7s 123us/step - loss: 0.0182 - acc: 0.9940 - val_loss: 0.0095 - val_acc: 0.9965\n",
            "Epoch 15/20\n",
            "60000/60000 [==============================] - 7s 123us/step - loss: 0.0177 - acc: 0.9942 - val_loss: 0.0090 - val_acc: 0.9968\n",
            "Epoch 16/20\n",
            "60000/60000 [==============================] - 7s 123us/step - loss: 0.0171 - acc: 0.9942 - val_loss: 0.0089 - val_acc: 0.9967\n",
            "Epoch 17/20\n",
            "60000/60000 [==============================] - 7s 123us/step - loss: 0.0164 - acc: 0.9945 - val_loss: 0.0085 - val_acc: 0.9969\n",
            "Epoch 18/20\n",
            "60000/60000 [==============================] - 7s 123us/step - loss: 0.0160 - acc: 0.9947 - val_loss: 0.0083 - val_acc: 0.9971\n",
            "Epoch 19/20\n",
            "60000/60000 [==============================] - 7s 123us/step - loss: 0.0154 - acc: 0.9948 - val_loss: 0.0082 - val_acc: 0.9970\n",
            "Epoch 20/20\n",
            "60000/60000 [==============================] - 7s 123us/step - loss: 0.0146 - acc: 0.9952 - val_loss: 0.0078 - val_acc: 0.9971\n"
          ],
          "name": "stdout"
        }
      ]
    }
  ]
}